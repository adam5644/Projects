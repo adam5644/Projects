{
 "cells": [
  {
   "cell_type": "code",
   "execution_count": 1,
   "id": "e9b6fe62",
   "metadata": {},
   "outputs": [
    {
     "data": {
      "text/plain": [
       "6.296057152109465"
      ]
     },
     "execution_count": 1,
     "metadata": {},
     "output_type": "execute_result"
    }
   ],
   "source": [
    "import time\n",
    "import timeit\n",
    "from enum import Enum\n",
    "import math\n",
    "import matplotlib.pyplot as plt\n",
    "import numpy as np\n",
    "\n",
    "# one step binomial\n",
    "from enum import Enum\n",
    "import math\n",
    "\n",
    "class PayoffType(str, Enum):\n",
    "    Call = 'Call'\n",
    "    Put = 'Put'\n",
    "\n",
    "def crrBinomialAmer(S, r, vol, payoffType, K, T, n):\n",
    "    t = T / n\n",
    "    b = math.exp(vol * vol * t+r*t) + math.exp(-r * t)\n",
    "    u = (b + math.sqrt(b*b - 4)) / 2\n",
    "    p = (math.exp(r * t) - (1/u)) / (u - 1/u)\n",
    "    # set up the last time slice, there are n+1 nodes at the last time slice\n",
    "    \n",
    "    # a dictionary that maps a lambda function\n",
    "    payoffDict = {\n",
    "        PayoffType.Call: lambda s: max(s-K, 0),\n",
    "        PayoffType.Put: lambda s: max(K-s, 0),\n",
    "    }\n",
    "    \n",
    "    # initialise option value at final time step\n",
    "    vs = [payoffDict[payoffType]( S * u**(n-i-i)) for i in range(n+1)]\n",
    "    \n",
    "    # iterate backward\n",
    "    for i in range(n-1, -1, -1):\n",
    "        # calculate the value of each node at time slide i, there are i nodes\n",
    "        for j in range(i+1):\n",
    "            continuation = math.exp(-r * t) * (vs[j]*p + vs[j+1] * (1-p))\n",
    "            vs[j] = max(continuation, payoffDict[payoffType](S*u**(i-j-j))) # continuation vs \n",
    "    return vs[0] # value of call option at time 0\n",
    "# test ---\n",
    "S, r, vol, K, T = 100, 0.01, 0.2, 105, 1.0\n",
    "\n",
    "crrBinomialAmer(S, r, vol, PayoffType.Call, K, T, 300)"
   ]
  },
  {
   "cell_type": "code",
   "execution_count": null,
   "id": "c8b18913",
   "metadata": {},
   "outputs": [],
   "source": []
  }
 ],
 "metadata": {
  "kernelspec": {
   "display_name": "Python 3 (ipykernel)",
   "language": "python",
   "name": "python3"
  },
  "language_info": {
   "codemirror_mode": {
    "name": "ipython",
    "version": 3
   },
   "file_extension": ".py",
   "mimetype": "text/x-python",
   "name": "python",
   "nbconvert_exporter": "python",
   "pygments_lexer": "ipython3",
   "version": "3.11.5"
  }
 },
 "nbformat": 4,
 "nbformat_minor": 5
}
