{
 "cells": [
  {
   "cell_type": "code",
   "execution_count": 1,
   "id": "c34b975b",
   "metadata": {},
   "outputs": [
    {
     "name": "stdout",
     "output_type": "stream",
     "text": [
      "add \t 1.4942293000640347e-08\n"
     ]
    }
   ],
   "source": [
    "import timeit\n",
    "\n",
    "def opTiming(op, opName, repeat):\n",
    "    elapsed_time = timeit.timeit(op, setup='import math', number=repeat)\n",
    "    print(opName, \"\\t\", elapsed_time / repeat)\n",
    "    \n",
    "repeat = int(1e8)\n",
    "opTiming(\"x = 5.0 + 7.0\", \"add\", repeat)\n",
    "opTiming(\"x = 5.0 * 7.0\", \"mul\", repeat)\n",
    "opTiming(\"x = 5.0 / 7.0\", \"div\", repeat)\n",
    "opTiming(\"x = math.log(7.0)\", \"log\", repeat)\n",
    "opTiming(\"x = math\", \"add\", repeat)\n",
    "opTiming(\"x = 5.0 + 7.0\", \"add\", repeat)"
   ]
  },
  {
   "cell_type": "code",
   "execution_count": null,
   "id": "8b411eda",
   "metadata": {},
   "outputs": [],
   "source": []
  }
 ],
 "metadata": {
  "kernelspec": {
   "display_name": "Python 3 (ipykernel)",
   "language": "python",
   "name": "python3"
  },
  "language_info": {
   "codemirror_mode": {
    "name": "ipython",
    "version": 3
   },
   "file_extension": ".py",
   "mimetype": "text/x-python",
   "name": "python",
   "nbconvert_exporter": "python",
   "pygments_lexer": "ipython3",
   "version": "3.11.5"
  }
 },
 "nbformat": 4,
 "nbformat_minor": 5
}
