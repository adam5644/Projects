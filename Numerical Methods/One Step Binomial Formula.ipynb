{
 "cells": [
  {
   "cell_type": "code",
   "execution_count": 4,
   "id": "265db438-ee3d-4424-88b8-61422fd94103",
   "metadata": {},
   "outputs": [
    {
     "name": "stdout",
     "output_type": "stream",
     "text": [
      "oneStepTree2: \t 8.212289615248919\n"
     ]
    }
   ],
   "source": [
    "import time\n",
    "import timeit\n",
    "from enum import Enum\n",
    "import math\n",
    "import matplotlib.pyplot as plt\n",
    "import numpy as np\n",
    "\n",
    "# one step binomial\n",
    "from enum import Enum\n",
    "import math\n",
    "\n",
    "#from intro import opTiming\n",
    "\n",
    "class PayoffType(str, Enum):\n",
    "    Call = 'Call'\n",
    "    Put = 'Put'\n",
    "\n",
    "def oneStepBinomial2(S, r, vol, optType, K, T):\n",
    "    b = math.exp(vol * vol * T+r*T) + math.exp(-r * T)\n",
    "    u = (b + math.sqrt(b*b - 4)) / 2\n",
    "    d = 1/u\n",
    "    p = (math.exp(r * T) - d) / (u-d)\n",
    "    if optType == PayoffType.Call:\n",
    "        return math.exp(-r * T) * (p * max(S * u - K, 0) + (1-p) * max(S * d - K, 0))\n",
    "# test ---\n",
    "S,r,vol,K,T,u,d = 100, 0.01, 0.2, 105, 1.0, 1.2, 0.8\n",
    "print(\"oneStepTree2: \\t\", oneStepBinomial2(S, r, vol, PayoffType.Call, K, T))"
   ]
  },
  {
   "cell_type": "code",
   "execution_count": null,
   "id": "0bcc9ab0-6d6c-4e4b-a309-cda759f47ef1",
   "metadata": {},
   "outputs": [],
   "source": []
  }
 ],
 "metadata": {
  "kernelspec": {
   "display_name": "Python 3 (ipykernel)",
   "language": "python",
   "name": "python3"
  },
  "language_info": {
   "codemirror_mode": {
    "name": "ipython",
    "version": 3
   },
   "file_extension": ".py",
   "mimetype": "text/x-python",
   "name": "python",
   "nbconvert_exporter": "python",
   "pygments_lexer": "ipython3",
   "version": "3.10.13"
  }
 },
 "nbformat": 4,
 "nbformat_minor": 5
}
