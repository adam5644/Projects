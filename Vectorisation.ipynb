{
 "cells": [
  {
   "cell_type": "markdown",
   "id": "219c9392",
   "metadata": {},
   "source": [
    "# Vectorisation\n",
    "- using operations that act on entire arrays or sequences of data without the explicit use of looping constructs. Save time as underlying operation often based on lower level language.\n",
    "- often use numpy array and pandas dataframe (pandas is built on top of numpy)\n",
    "\n",
    "# Numpy\n",
    "\n",
    "- Universal Functions (ufuncs): NumPy functions that operate on numpy array\n",
    "- if a = np.array([])\n",
    "- ufuncs x --> np.x(a)\n",
    "\n",
    "# Common ufuncs: \n",
    "- math operations\n",
    "    - arithmetic: add, subtract, multiply, divide, power, mod, absolute\n",
    "    - trigo: sin, cos, tan\n",
    "    - exponential and logarithmic: exp, log, log10\n",
    "- statistics\n",
    "    - mean, std, percentile\n",
    "- logical \n",
    "    - logical_and, logical_or, logical_not\n",
    "- bitwise\n",
    "    - bitwise_and, bitwisse_or, bitwise_xor\n",
    "- comparison\n",
    "    - greater, greater_equal, less, less_equal, equal, not_equal\n",
    "- floating point routine\n",
    "    - isinf, isnan, \n",
    "- array manipulation\n",
    "    - floor, ceil, trunc\n",
    "- others\n",
    "    - where, choose\n",
    "    \n",
    "# can numpy ufuncs be used on pandas dataframe and series? \n",
    "- can. One diff is that pandas dataframe and series have index.\n",
    "- numpy array is same as 1d pandas series\n",
    "- convert num\n",
    "\n",
    "# can numpy ufuncs be used on python list/dict and other built in data structure?\n",
    "- yes, numpy ufuncs internally convert them into numpy array first, which takes more time\n",
    "- numpy array is designed inherently to work seamlessly with python built data structure that is array-like, namely python list and set\n",
    "- python dict --> use .values(), convert to list"
   ]
  },
  {
   "cell_type": "code",
   "execution_count": 14,
   "id": "f03e9d16",
   "metadata": {},
   "outputs": [
    {
     "data": {
      "text/plain": [
       "array([1, 2, 3], dtype=int64)"
      ]
     },
     "execution_count": 14,
     "metadata": {},
     "output_type": "execute_result"
    }
   ],
   "source": [
    "# pd series to np array\n",
    "import pandas as pd\n",
    "a = pd.Series([1,2,3])\n",
    "b = a.to_numpy()\n",
    "b\n"
   ]
  },
  {
   "cell_type": "code",
   "execution_count": 18,
   "id": "2dce5899",
   "metadata": {},
   "outputs": [
    {
     "data": {
      "text/plain": [
       "array([1, 2, 3])"
      ]
     },
     "execution_count": 18,
     "metadata": {},
     "output_type": "execute_result"
    }
   ],
   "source": [
    "# list to np array\n",
    "a = [1,2,3]\n",
    "b = np.array(a)\n",
    "b"
   ]
  },
  {
   "cell_type": "code",
   "execution_count": 2,
   "id": "5c54e224",
   "metadata": {},
   "outputs": [
    {
     "name": "stdout",
     "output_type": "stream",
     "text": [
      "[ 6  8 10 12]\n"
     ]
    }
   ],
   "source": [
    "# NumPy Array Vectorization:\n",
    "\n",
    "import numpy as np\n",
    "\n",
    "# Create two NumPy arrays\n",
    "a = np.array([1, 2, 3, 4])\n",
    "b = np.array([5, 6, 7, 8])\n",
    "\n",
    "# Perform a vectorized addition\n",
    "c = a + b\n",
    "print(c)  # Output: [ 6  8 10 12]\n"
   ]
  },
  {
   "cell_type": "code",
   "execution_count": null,
   "id": "b8c6e39a",
   "metadata": {},
   "outputs": [],
   "source": [
    "# Universal Functions (ufuncs) Vectorization:\n",
    "import numpy as np\n",
    "\n",
    "# Create a NumPy array\n",
    "a = np.array([1, 2, 3, 4])\n",
    "\n",
    "# Use a ufunc to compute the square of each element\n",
    "b = np.square(a)\n",
    "print(b)  # Output: [ 1  4  9 16]\n"
   ]
  },
  {
   "cell_type": "code",
   "execution_count": 10,
   "id": "27f1dee4",
   "metadata": {},
   "outputs": [
    {
     "data": {
      "text/plain": [
       "array([False,  True, False, False])"
      ]
     },
     "execution_count": 10,
     "metadata": {},
     "output_type": "execute_result"
    }
   ],
   "source": [
    "b = [1,2,3,4]\n",
    "np.equal(b, 2)"
   ]
  },
  {
   "cell_type": "code",
   "execution_count": 20,
   "id": "a217a9d8",
   "metadata": {},
   "outputs": [
    {
     "data": {
      "text/plain": [
       "10"
      ]
     },
     "execution_count": 20,
     "metadata": {},
     "output_type": "execute_result"
    }
   ],
   "source": [
    "import pandas as pd\n",
    "import numpy as np\n",
    "\n",
    "# Creating a Pandas Series\n",
    "series = pd.Series([1, 2, 3, 4], index=['a', 'b', 'c', 'd'])\n",
    "\n",
    "np.sum(series)"
   ]
  },
  {
   "cell_type": "code",
   "execution_count": 3,
   "id": "94efd023",
   "metadata": {},
   "outputs": [
    {
     "name": "stdout",
     "output_type": "stream",
     "text": [
      "   A  B   C\n",
      "0  1  4   4\n",
      "1  2  5  10\n",
      "2  3  6  18\n"
     ]
    }
   ],
   "source": [
    "# Pandas Operations Vectorization:\n",
    "import pandas as pd\n",
    "\n",
    "# Create a pandas DataFrame\n",
    "df = pd.DataFrame({\n",
    "    'A': [1, 2, 3],\n",
    "    'B': [4, 5, 6]\n",
    "})\n",
    "\n",
    "# Perform a vectorized operation to create a new column\n",
    "df['C'] = df['A'] * df['B']\n",
    "print(df)\n"
   ]
  },
  {
   "cell_type": "code",
   "execution_count": 21,
   "id": "47037f69",
   "metadata": {},
   "outputs": [
    {
     "name": "stdout",
     "output_type": "stream",
     "text": [
      "[10  2 30  4]\n"
     ]
    }
   ],
   "source": [
    "import numpy as np\n",
    "\n",
    "# Example using np.where\n",
    "x = np.array([1, 2, 3, 4])\n",
    "y = np.array([10, 20, 30, 40])\n",
    "\n",
    "# Condition\n",
    "condition = np.array([True, False, True, False])\n",
    "\n",
    "# np.where returns elements from `y` where `condition` is True, and from `x` otherwise\n",
    "result = np.where(condition, y, x)\n",
    "print(result)  # Output: [10  2 30  4]\n"
   ]
  },
  {
   "cell_type": "code",
   "execution_count": 22,
   "id": "2f42bb36",
   "metadata": {},
   "outputs": [
    {
     "name": "stdout",
     "output_type": "stream",
     "text": [
      "[20 11  2 13]\n"
     ]
    }
   ],
   "source": [
    "# Example using np.choose\n",
    "choices = np.array([[0, 1, 2, 3], [10, 11, 12, 13], [20, 21, 22, 23]])\n",
    "\n",
    "# Index array\n",
    "index_array = np.array([2, 1, 0, 1])\n",
    "\n",
    "# np.choose uses `index_array` to choose elements from `choices`\n",
    "result = np.choose(index_array, choices)\n",
    "print(result)  # Output: [20 11  2 13]\n"
   ]
  },
  {
   "cell_type": "code",
   "execution_count": null,
   "id": "ea753e8f",
   "metadata": {},
   "outputs": [],
   "source": []
  }
 ],
 "metadata": {
  "kernelspec": {
   "display_name": "Python 3 (ipykernel)",
   "language": "python",
   "name": "python3"
  },
  "language_info": {
   "codemirror_mode": {
    "name": "ipython",
    "version": 3
   },
   "file_extension": ".py",
   "mimetype": "text/x-python",
   "name": "python",
   "nbconvert_exporter": "python",
   "pygments_lexer": "ipython3",
   "version": "3.11.5"
  }
 },
 "nbformat": 4,
 "nbformat_minor": 5
}
