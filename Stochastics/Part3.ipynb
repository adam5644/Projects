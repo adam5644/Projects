{
 "cells": [
  {
   "cell_type": "code",
   "execution_count": 4,
   "id": "df82a8ca",
   "metadata": {},
   "outputs": [],
   "source": [
    "import pandas as pd\n",
    "import numpy as np\n",
    "import matplotlib.pyplot as plt\n",
    "from pprint import pprint\n",
    "\n",
    "import datetime as dt\n",
    "\n",
    "from scipy.stats import norm\n",
    "from scipy.optimize import brentq\n",
    "from scipy.optimize import least_squares\n",
    "\n",
    "from sklearn.linear_model import LinearRegression\n",
    "\n",
    "from scipy.integrate import quad"
   ]
  },
  {
   "cell_type": "code",
   "execution_count": 5,
   "id": "ac0e226f",
   "metadata": {},
   "outputs": [],
   "source": [
    "def h(x):\n",
    "    return x ** (1/3) + (3/2) * np.log(x) +10.0\n",
    "def h_prime(x):\n",
    "    return (1/3) * (x**(-2/3)) + (3/2) * (1/x)\n",
    "def h_prime_prime(x):\n",
    "    return (-2/9) * (x**(-5/3)) + (3/2) * (-1/(x**2))"
   ]
  },
  {
   "cell_type": "code",
   "execution_count": null,
   "id": "4c075597",
   "metadata": {},
   "outputs": [],
   "source": []
  },
  {
   "cell_type": "code",
   "execution_count": 6,
   "id": "c5a2a2fe",
   "metadata": {},
   "outputs": [],
   "source": [
    "spx = pd.read_csv('SPX_options.csv')\n",
    "spy = pd.read_csv('SPY_options.csv')\n",
    "rate = pd.read_csv('zero_rates_20201201.csv')"
   ]
  },
  {
   "cell_type": "code",
   "execution_count": 7,
   "id": "0aead9cb",
   "metadata": {},
   "outputs": [],
   "source": [
    "rate['rate'] = rate['rate'] / 100"
   ]
  },
  {
   "cell_type": "code",
   "execution_count": 8,
   "id": "fe01ccd4",
   "metadata": {},
   "outputs": [],
   "source": [
    "spx['mid'] = 0.5*(spx['best_bid'] + spx['best_offer'])\n",
    "spx['strike'] = spx['strike_price'] / 1000\n",
    "spx['payoff'] = spx['cp_flag'].map(lambda x: 'call' if x == 'C' else 'put')\n",
    "spx.dropna(inplace=True)\n",
    "\n",
    "r45 = np.interp(45,rate['days'],rate['rate'])\n",
    "\n",
    "exdate = sorted(spx['exdate'].unique())[1]\n",
    "\n",
    "df_x = spx[spx['exdate'] == exdate]\n",
    "\n",
    "days_to_expiry = (pd.Timestamp(str(exdate)) - pd.Timestamp('2020-12-01')).days\n",
    "T = days_to_expiry/365\n",
    "\n",
    "\n"
   ]
  },
  {
   "cell_type": "code",
   "execution_count": 9,
   "id": "ccceb5a9",
   "metadata": {},
   "outputs": [],
   "source": [
    "spy['mid'] = 0.5*(spy['best_bid'] + spy['best_offer'])\n",
    "spy['strike'] = spy['strike_price'] / 1000\n",
    "spy['payoff'] = spy['cp_flag'].map(lambda x: 'call' if x == 'C' else 'put')\n",
    "spy.dropna(inplace=True)\n",
    "\n",
    "df_y = spy[spy['exdate'] == exdate]"
   ]
  },
  {
   "cell_type": "code",
   "execution_count": 10,
   "id": "3e8564db",
   "metadata": {},
   "outputs": [],
   "source": [
    "df_x_call= df_x[df_x['cp_flag']=='C']\n",
    "df_x_put = df_x[df_x['cp_flag']=='P']\n",
    "\n",
    "S_x = 3662.45\n",
    "K_x = 3662.45\n",
    "F_x = S_x* np.exp(r45*T)\n",
    "\n",
    "call_mid_x = np.interp(K_x,df_x_call['strike'],df_x_call['mid'])\n",
    "put_mid_x = np.interp(K_x,df_x_put['strike'],df_x_put['mid'])"
   ]
  },
  {
   "cell_type": "code",
   "execution_count": 11,
   "id": "9e1d9423",
   "metadata": {},
   "outputs": [],
   "source": [
    "df_y_call= df_y[df_y['cp_flag']=='C']\n",
    "df_y_put = df_y[df_y['cp_flag']=='P']\n",
    "\n",
    "S_y = 366.02\n",
    "K_y = 366.02\n",
    "F_y = S_y* np.exp(r45*T)\n",
    "\n",
    "call_mid_y = np.interp(K_y,df_y_call['strike'],df_y_call['mid'])\n",
    "put_mid_y = np.interp(K_y,df_y_put['strike'],df_y_put['mid'])"
   ]
  },
  {
   "cell_type": "markdown",
   "id": "52d064d5",
   "metadata": {},
   "source": [
    "# BSM"
   ]
  },
  {
   "cell_type": "code",
   "execution_count": 12,
   "id": "34da7acb",
   "metadata": {},
   "outputs": [],
   "source": [
    "def BlackScholesCall(S,K, r, sigma, T):\n",
    "    d1 = (np.log(S/K)+(r+sigma**2/2)*T) / (sigma*np.sqrt(T))\n",
    "    d2 = d1 - sigma*np.sqrt(T)\n",
    "    return S*norm.cdf(d1) - K*np.exp(-r*T)*norm.cdf(d2)\n",
    "\n",
    "def BlackScholesPut(S, K, r, sigma, T):\n",
    "    return BlackScholesCall(S, K, r, sigma, T) - S + K*np.exp(-r*T)\n",
    "\n",
    "def callintegrandBSM(K, S, r, T, sigma):\n",
    "    price = BlackScholesCall(S, K, r, sigma, T) / K**2\n",
    "    return price\n",
    "\n",
    "def putintegrandBSM(K, S, r, T, sigma):\n",
    "    price = BlackScholesPut(S, K, r, sigma, T) / K**2\n",
    "    return price\n",
    "\n",
    "def impliedVolatilityBSM(S, K, r, price, T, payoff):\n",
    "    try:\n",
    "        if (payoff.lower() == 'call'):\n",
    "            impliedVol = brentq(lambda x: price -\n",
    "                                BlackScholesCall(S, K, r, x, T),\n",
    "                                1e-12, 10.0)\n",
    "        elif (payoff.lower() == 'put'):\n",
    "            impliedVol = brentq(lambda x: price -\n",
    "                                BlackScholesPut(S, K, r, x, T),\n",
    "                                1e-12, 10.0)\n",
    "        else:\n",
    "            raise NameError('Payoff type not recognized')\n",
    "    except Exception:\n",
    "        impliedVol = np.nan\n",
    "\n",
    "    return impliedVol"
   ]
  },
  {
   "cell_type": "markdown",
   "id": "eb8d569a",
   "metadata": {},
   "source": [
    ">spx"
   ]
  },
  {
   "cell_type": "code",
   "execution_count": 13,
   "id": "f7ad58f1",
   "metadata": {},
   "outputs": [],
   "source": [
    "call_sigma_BSM_x = impliedVolatilityBSM(S_x,K_x,r45,call_mid_x,T,payoff = 'call')\n",
    "put_sigma_BSM_x = impliedVolatilityBSM(S_x,K_x,r45,put_mid_x,T,payoff = 'put')\n",
    "sigma1_x = (call_sigma_BSM_x+put_sigma_BSM_x)/2"
   ]
  },
  {
   "cell_type": "code",
   "execution_count": 14,
   "id": "dd8daa28",
   "metadata": {},
   "outputs": [
    {
     "name": "stdout",
     "output_type": "stream",
     "text": [
      "The expected integrated variance is: 0.004213733\n"
     ]
    }
   ],
   "source": [
    "I_put_BSM_x = quad(lambda x: putintegrandBSM(x, S_x, r45, T, sigma1_x), 0.0, F_x)\n",
    "I_call_BSM_x = quad(lambda x: callintegrandBSM(x, S_x, r45, T, sigma1_x), F_x, 5000)\n",
    "E_var_BSM_x = 2*np.exp(r45*T)*(I_put_BSM_x[0] + I_call_BSM_x[0])\n",
    "print('The expected integrated variance is: %.9f' % E_var_BSM_x)"
   ]
  },
  {
   "cell_type": "code",
   "execution_count": 15,
   "id": "94d4140c",
   "metadata": {},
   "outputs": [
    {
     "data": {
      "text/plain": [
       "0.18487308494097424"
      ]
     },
     "execution_count": 15,
     "metadata": {},
     "output_type": "execute_result"
    }
   ],
   "source": [
    "sigma_BSM_x = np.sqrt(E_var_BSM_x/T)\n",
    "sigma_BSM_x"
   ]
  },
  {
   "cell_type": "code",
   "execution_count": 16,
   "id": "d2720df1",
   "metadata": {},
   "outputs": [],
   "source": [
    "def get_price_BSM(S,r,T,sigma):\n",
    "    return np.exp(-r*T)*\\\n",
    "            (S**(1/3) * np.exp((1/3)*r - (1/9)*(sigma**2)*T)\\\n",
    "            +(3/2)*(np.log(S) + (r-sigma**2/2)*T)\n",
    "            +10)"
   ]
  },
  {
   "cell_type": "code",
   "execution_count": 17,
   "id": "9a14a444",
   "metadata": {},
   "outputs": [
    {
     "data": {
      "text/plain": [
       "37.71413781849898"
      ]
     },
     "execution_count": 17,
     "metadata": {},
     "output_type": "execute_result"
    }
   ],
   "source": [
    "get_price_BSM(S_x,r45,T,sigma1_x)"
   ]
  },
  {
   "cell_type": "markdown",
   "id": "7450942e",
   "metadata": {},
   "source": [
    ">spy"
   ]
  },
  {
   "cell_type": "code",
   "execution_count": 18,
   "id": "76a529e3",
   "metadata": {},
   "outputs": [],
   "source": [
    "call_sigma_BSM_y = impliedVolatilityBSM(S_y,K_y,r45,call_mid_y,T,payoff = 'call')\n",
    "put_sigma_BSM_y = impliedVolatilityBSM(S_y,K_y,r45,put_mid_y,T,payoff = 'put')\n",
    "sigma1_y = (call_sigma_BSM_y+put_sigma_BSM_y)/2"
   ]
  },
  {
   "cell_type": "code",
   "execution_count": 19,
   "id": "3fdcf8a1",
   "metadata": {},
   "outputs": [
    {
     "name": "stdout",
     "output_type": "stream",
     "text": [
      "The expected integrated variance is: 0.004209706\n"
     ]
    }
   ],
   "source": [
    "I_put_BSM_y = quad(lambda x: putintegrandBSM(x, S_y, r45, T, sigma1_y), 0.0, F_y)\n",
    "I_call_BSM_y = quad(lambda x: callintegrandBSM(x, S_y, r45, T, sigma1_y), F_y, 500)\n",
    "E_var_BSM_y = 2*np.exp(r45*T)*(I_put_BSM_y[0] + I_call_BSM_y[0])\n",
    "print('The expected integrated variance is: %.9f' % E_var_BSM_y)"
   ]
  },
  {
   "cell_type": "code",
   "execution_count": 20,
   "id": "462e82a7",
   "metadata": {},
   "outputs": [
    {
     "data": {
      "text/plain": [
       "0.18478472009599142"
      ]
     },
     "execution_count": 20,
     "metadata": {},
     "output_type": "execute_result"
    }
   ],
   "source": [
    "sigma_BSM_y = np.sqrt(E_var_BSM_y/T)\n",
    "sigma_BSM_y"
   ]
  },
  {
   "cell_type": "code",
   "execution_count": 21,
   "id": "a5eeb741",
   "metadata": {},
   "outputs": [
    {
     "data": {
      "text/plain": [
       "25.999443889743038"
      ]
     },
     "execution_count": 21,
     "metadata": {},
     "output_type": "execute_result"
    }
   ],
   "source": [
    "get_price_BSM(S_y,r45,T,sigma1_y)"
   ]
  },
  {
   "cell_type": "code",
   "execution_count": null,
   "id": "e1e56087",
   "metadata": {},
   "outputs": [],
   "source": []
  },
  {
   "cell_type": "markdown",
   "id": "25f7172e",
   "metadata": {},
   "source": [
    "# Bachelier"
   ]
  },
  {
   "cell_type": "code",
   "execution_count": 22,
   "id": "bdfcf519",
   "metadata": {},
   "outputs": [],
   "source": [
    "def Bachelier_vanilla_call(S, K, r, sigma, T) :\n",
    "    d1 = (K - S) / (sigma * np.sqrt(T))\n",
    "    Vc = np.exp(-r * T) * ((S - K) * norm.cdf(-d1) + sigma * np.sqrt(T) * norm.pdf(-d1))\n",
    "    return Vc\n",
    "\n",
    "def Bachelier_vanilla_put(S, K, r, sigma, T) :\n",
    "    d1 = (K - S) / (sigma * np.sqrt(T))\n",
    "    Vp = np.exp(-r * T) * ((K - S) * norm.cdf(d1) + sigma * np.sqrt(T) * norm.pdf(d1))\n",
    "    return Vp\n",
    "\n",
    "def callintegrandBachelier(K, S, r, T, sigma):\n",
    "    price = Bachelier_vanilla_call(S, K, r, sigma, T) / K**2\n",
    "    return price\n",
    "\n",
    "def putintegrandBachelier(K, S, r, T, sigma):\n",
    "    price = Bachelier_vanilla_put(S, K, r, sigma, T) / K**2\n",
    "    return price\n",
    "\n",
    "def impliedVolatilityBachelier(S, K, r, price, T, payoff):\n",
    "    try:\n",
    "        if (payoff.lower() == 'call'):\n",
    "            impliedVol = brentq(lambda x: price -\n",
    "                                Bachelier_vanilla_call(S, K, r, x, T),\n",
    "                                1e-12, 1000)\n",
    "        elif (payoff.lower() == 'put'):\n",
    "            impliedVol = brentq(lambda x: price -\n",
    "                                Bachelier_vanilla_put(S, K, r, x, T),\n",
    "                                1e-12, 1000)\n",
    "        else:\n",
    "            raise NameError('Payoff type not recognized')\n",
    "    except Exception:\n",
    "        impliedVol = np.nan\n",
    "\n",
    "    return impliedVol"
   ]
  },
  {
   "cell_type": "markdown",
   "id": "fd7f7b74",
   "metadata": {},
   "source": [
    ">spx"
   ]
  },
  {
   "cell_type": "code",
   "execution_count": 23,
   "id": "26fcacf0",
   "metadata": {},
   "outputs": [],
   "source": [
    "call_sigma_Bachelier_x = impliedVolatilityBachelier(S_x,K_x,r45,call_mid_x,T,payoff = 'call')\n",
    "put_sigma_Bachelier_x = impliedVolatilityBachelier(S_x,K_x,r45,put_mid_x,T,payoff = 'put')\n",
    "sigma2_x = (call_sigma_Bachelier_x+put_sigma_Bachelier_x)/2"
   ]
  },
  {
   "cell_type": "code",
   "execution_count": 24,
   "id": "3453fbf8",
   "metadata": {},
   "outputs": [
    {
     "data": {
      "text/plain": [
       "677.0602010158082"
      ]
     },
     "execution_count": 24,
     "metadata": {},
     "output_type": "execute_result"
    }
   ],
   "source": [
    "sigma2_x"
   ]
  },
  {
   "cell_type": "code",
   "execution_count": 25,
   "id": "22cccc57",
   "metadata": {},
   "outputs": [
    {
     "name": "stdout",
     "output_type": "stream",
     "text": [
      "The expected integrated variance is: 0.004240457\n"
     ]
    }
   ],
   "source": [
    "I_put_BCH_x = quad(lambda x: putintegrandBachelier(x, S_x, r45, T, sigma2_x), 0.0, F_x)\n",
    "I_call_BCH_x = quad(lambda x: callintegrandBachelier(x, S_x, r45, T, sigma2_x), F_x, 5000)\n",
    "E_var_BCH_x = 2*np.exp(r45*T)*(I_put_BCH_x[0] + I_call_BCH_x[0])\n",
    "print('The expected integrated variance is: %.9f' % E_var_BCH_x)"
   ]
  },
  {
   "cell_type": "code",
   "execution_count": 26,
   "id": "68e00cdf",
   "metadata": {},
   "outputs": [
    {
     "data": {
      "text/plain": [
       "0.1854584018888951"
      ]
     },
     "execution_count": 26,
     "metadata": {},
     "output_type": "execute_result"
    }
   ],
   "source": [
    "sigma_BCH_x = np.sqrt(E_var_BCH_x/T)\n",
    "sigma_BCH_x"
   ]
  },
  {
   "cell_type": "code",
   "execution_count": 27,
   "id": "2764ee40",
   "metadata": {},
   "outputs": [],
   "source": [
    "def static_replication_BCH(F,S, r, T, sigma,upperbound):\n",
    "    ans =  (quad(lambda x:\n",
    "                h_prime_prime(x)*Bachelier_vanilla_put(S,x, r, sigma, T),0.0,F\n",
    "                )[0]\n",
    "            +\n",
    "            quad(lambda x:\n",
    "                h_prime_prime(x)*Bachelier_vanilla_call(S,x, r, sigma, T), F , upperbound\n",
    "                )[0]\n",
    "            )\n",
    "    return np.exp(-r45*T)*h(F) + ans"
   ]
  },
  {
   "cell_type": "code",
   "execution_count": 28,
   "id": "799371b6",
   "metadata": {},
   "outputs": [
    {
     "data": {
      "text/plain": [
       "37.70484676740247"
      ]
     },
     "execution_count": 28,
     "metadata": {},
     "output_type": "execute_result"
    }
   ],
   "source": [
    "static_replication_BCH(F_x,S_x,r45, T ,sigma2_x,5000)"
   ]
  },
  {
   "cell_type": "markdown",
   "id": "0bccc0d0",
   "metadata": {},
   "source": [
    ">spy"
   ]
  },
  {
   "cell_type": "code",
   "execution_count": 29,
   "id": "0c10b12d",
   "metadata": {},
   "outputs": [],
   "source": [
    "call_sigma_Bachelier_y = impliedVolatilityBachelier(S_y,K_y,r45,call_mid_y,T,payoff = 'call')\n",
    "put_sigma_Bachelier_y = impliedVolatilityBachelier(S_y,K_y,r45,put_mid_y,T,payoff = 'put')\n",
    "sigma2_y = (call_sigma_Bachelier_y+put_sigma_Bachelier_y)/2"
   ]
  },
  {
   "cell_type": "code",
   "execution_count": 30,
   "id": "2c371fc4",
   "metadata": {},
   "outputs": [
    {
     "data": {
      "text/plain": [
       "67.63193548527376"
      ]
     },
     "execution_count": 30,
     "metadata": {},
     "output_type": "execute_result"
    }
   ],
   "source": [
    "sigma2_y"
   ]
  },
  {
   "cell_type": "code",
   "execution_count": 31,
   "id": "18f57bcd",
   "metadata": {},
   "outputs": [
    {
     "name": "stdout",
     "output_type": "stream",
     "text": [
      "The expected integrated variance is: 0.004236360\n"
     ]
    }
   ],
   "source": [
    "I_put_BCH_y = quad(lambda x: putintegrandBachelier(x, S_y, r45, T, sigma2_y), 0.0, F_y)\n",
    "I_call_BCH_y = quad(lambda x: callintegrandBachelier(x, S_y, r45, T, sigma2_y), F_y, 500)\n",
    "E_var_BCH_y = 2*np.exp(r45*T)*(I_put_BCH_y[0] + I_call_BCH_y[0])\n",
    "print('The expected integrated variance is: %.9f' % E_var_BCH_y)"
   ]
  },
  {
   "cell_type": "code",
   "execution_count": 32,
   "id": "13b58a86",
   "metadata": {},
   "outputs": [
    {
     "data": {
      "text/plain": [
       "0.18536877806126525"
      ]
     },
     "execution_count": 32,
     "metadata": {},
     "output_type": "execute_result"
    }
   ],
   "source": [
    "sigma_BCH_y = np.sqrt(E_var_BCH_y/T)\n",
    "sigma_BCH_y"
   ]
  },
  {
   "cell_type": "code",
   "execution_count": 33,
   "id": "8f94038f",
   "metadata": {},
   "outputs": [
    {
     "data": {
      "text/plain": [
       "25.995121607184974"
      ]
     },
     "execution_count": 33,
     "metadata": {},
     "output_type": "execute_result"
    }
   ],
   "source": [
    "static_replication_BCH(F_y,S_y,r45, T ,sigma2_y,500)"
   ]
  },
  {
   "cell_type": "markdown",
   "id": "0bb33a5f",
   "metadata": {},
   "source": [
    "# Static-replication"
   ]
  },
  {
   "cell_type": "code",
   "execution_count": 34,
   "id": "762cd176",
   "metadata": {},
   "outputs": [],
   "source": [
    "def SABR(F, K, T, alpha, beta, rho, nu):\n",
    "    beta = 0.7\n",
    "    X = K\n",
    "    # if K is at-the-money-forward\n",
    "    if abs(F - K) < 1e-12:\n",
    "        numer1 = (((1 - beta)**2)/24)*alpha*alpha/(F**(2 - 2*beta))\n",
    "        numer2 = 0.25*rho*beta*nu*alpha/(F**(1 - beta))\n",
    "        numer3 = ((2 - 3*rho*rho)/24)*nu*nu\n",
    "        VolAtm = alpha*(1 + (numer1 + numer2 + numer3)*T)/(F**(1-beta))\n",
    "        sabrsigma = VolAtm\n",
    "    else:\n",
    "        z = (nu/alpha)*((F*X)**(0.5*(1-beta)))*np.log(F/X)\n",
    "        zhi = np.log((((1 - 2*rho*z + z*z)**0.5) + z - rho)/(1 - rho))\n",
    "        numer1 = (((1 - beta)**2)/24)*((alpha*alpha)/((F*X)**(1 - beta)))\n",
    "        numer2 = 0.25*rho*beta*nu*alpha/((F*X)**((1 - beta)/2))\n",
    "        numer3 = ((2 - 3*rho*rho)/24)*nu*nu\n",
    "        numer = alpha*(1 + (numer1 + numer2 + numer3)*T)*z\n",
    "        denom1 = ((1 - beta)**2/24)*(np.log(F/X))**2\n",
    "        denom2 = (((1 - beta)**4)/1920)*((np.log(F/X))**4)\n",
    "        denom = ((F*X)**((1 - beta)/2))*(1 + denom1 + denom2)*zhi\n",
    "        sabrsigma = numer/denom\n",
    "\n",
    "    return sabrsigma\n"
   ]
  },
  {
   "cell_type": "code",
   "execution_count": 35,
   "id": "75f2c4c3",
   "metadata": {},
   "outputs": [],
   "source": [
    "def SABRCall(S, K, r, alpha, beta, rho, nu, T):\n",
    "    sabr_vol = SABR(S*np.exp(r*T), K, T, alpha, beta, rho, nu)\n",
    "    return BlackScholesCall(S, K, r, sabr_vol, T)\n",
    "\n",
    "\n",
    "def SABRPut(S, K, r, alpha, beta, rho, nu, T):\n",
    "    sabr_vol = SABR(S*np.exp(r*T), K, T, alpha, beta, rho, nu)\n",
    "    return BlackScholesPut(S, K, r, sabr_vol, T)\n",
    "\n",
    "\n",
    "def sabrcallintegrand(K, S, r, T, alpha, beta, rho, nu):\n",
    "    price = SABRCall(S, K, r, alpha, beta, rho, nu, T) / K**2\n",
    "    return price\n",
    "\n",
    "\n",
    "def sabrputintegrand(K, S, r, T, alpha, beta, rho, nu):\n",
    "    price = SABRPut(S, K, r, alpha, beta, rho, nu, T) / K**2\n",
    "    return price"
   ]
  },
  {
   "cell_type": "code",
   "execution_count": 36,
   "id": "bc95d801",
   "metadata": {},
   "outputs": [],
   "source": [
    "alpha1 = 1.817\n",
    "beta1 = 0.7\n",
    "rho1 = -0.404\n",
    "nu1 = 2.790"
   ]
  },
  {
   "cell_type": "code",
   "execution_count": 37,
   "id": "da33dfa4",
   "metadata": {},
   "outputs": [
    {
     "name": "stdout",
     "output_type": "stream",
     "text": [
      "The expected integrated variance is: 0.006337324\n"
     ]
    }
   ],
   "source": [
    "I_put_SR_x = quad(lambda x: sabrputintegrand(x, S_x, r45, T, alpha1, beta1, rho1, nu1), 1e-6, F_x)\n",
    "I_call_SR_x = quad(lambda x: sabrcallintegrand(x, S_x, r45, T, alpha1, beta1, rho1, nu1), F_x, 5000)\n",
    "E_var_SABR_x = 2*np.exp(r45*T)*(I_put_SR_x[0] + I_call_SR_x[0])\n",
    "print('The expected integrated variance is: %.9f' % E_var_SABR_x)"
   ]
  },
  {
   "cell_type": "code",
   "execution_count": 38,
   "id": "becbf000",
   "metadata": {},
   "outputs": [
    {
     "data": {
      "text/plain": [
       "0.2267217135315304"
      ]
     },
     "execution_count": 38,
     "metadata": {},
     "output_type": "execute_result"
    }
   ],
   "source": [
    "sigma_SABR_x = np.sqrt(E_var_SABR_x/T)\n",
    "sigma_SABR_x"
   ]
  },
  {
   "cell_type": "code",
   "execution_count": 39,
   "id": "41dd094b",
   "metadata": {},
   "outputs": [],
   "source": [
    "def static_replication_SABR(F, S, T, alpha, beta, rho, nu,r,upperbound):\n",
    "    ans =  (quad(lambda x:\n",
    "                h_prime_prime(x)*SABRPut(S, x, r, alpha, beta, rho, nu, T),0.0,F\n",
    "                )[0]\n",
    "            +\n",
    "            quad(lambda x:\n",
    "                h_prime_prime(x)*SABRCall(S, x, r, alpha, beta, rho, nu, T), F , upperbound\n",
    "                )[0]\n",
    "            )\n",
    "    return np.exp(-r45*T)*h(F) + ans"
   ]
  },
  {
   "cell_type": "code",
   "execution_count": 40,
   "id": "66ea8a4d",
   "metadata": {},
   "outputs": [
    {
     "data": {
      "text/plain": [
       "37.70040702356144"
      ]
     },
     "execution_count": 40,
     "metadata": {},
     "output_type": "execute_result"
    }
   ],
   "source": [
    "static_replication_SABR(F_x, S_x, T, alpha1, beta1, rho1, nu1,r45,5000)"
   ]
  },
  {
   "cell_type": "markdown",
   "id": "1e3ed7fe",
   "metadata": {},
   "source": [
    ">spy"
   ]
  },
  {
   "cell_type": "code",
   "execution_count": 41,
   "id": "7c3a2c0f",
   "metadata": {},
   "outputs": [],
   "source": [
    "alpha2 = 0.908\n",
    "beta2 = 0.7 \n",
    "rho2 = -0.489\n",
    "nu2 = 2.729"
   ]
  },
  {
   "cell_type": "code",
   "execution_count": 42,
   "id": "f3a8a7d4",
   "metadata": {},
   "outputs": [
    {
     "name": "stdout",
     "output_type": "stream",
     "text": [
      "The expected integrated variance is: 0.006016732\n"
     ]
    }
   ],
   "source": [
    "I_put_SR_y = quad(lambda x: sabrputintegrand(x, S_y, r45, T, alpha2, beta2, rho2, nu2), 1e-6, F_y)\n",
    "I_call_SR_y = quad(lambda x: sabrcallintegrand(x, S_y, r45, T, alpha2, beta2, rho2, nu2), F_y, 5000)\n",
    "E_var_SABR_y = 2*np.exp(r45*T)*(I_put_SR_y[0] + I_call_SR_y[0])\n",
    "print('The expected integrated variance is: %.9f' % E_var_SABR_y)"
   ]
  },
  {
   "cell_type": "code",
   "execution_count": 43,
   "id": "d8f8bca2",
   "metadata": {},
   "outputs": [
    {
     "data": {
      "text/plain": [
       "0.2209126041673096"
      ]
     },
     "execution_count": 43,
     "metadata": {},
     "output_type": "execute_result"
    }
   ],
   "source": [
    "sigma_SABR_y = np.sqrt(E_var_SABR_y/T)\n",
    "sigma_SABR_y"
   ]
  },
  {
   "cell_type": "code",
   "execution_count": 44,
   "id": "3c73aabc",
   "metadata": {},
   "outputs": [
    {
     "data": {
      "text/plain": [
       "25.99267260991541"
      ]
     },
     "execution_count": 44,
     "metadata": {},
     "output_type": "execute_result"
    }
   ],
   "source": [
    "static_replication_SABR(F_y, S_y, T, alpha2, beta2, rho2, nu2,r45,500)"
   ]
  },
  {
   "cell_type": "code",
   "execution_count": 54,
   "id": "3bf53af4",
   "metadata": {},
   "outputs": [],
   "source": [
    "df = pd.DataFrame(index=[['SPX','SPY']],\n",
    "                  columns= pd.MultiIndex.from_tuples([('BSM', 'sigma'), \n",
    "                                                      ('BSM', 'pricing'), \n",
    "                                                      ('BACH', 'sigma'), \n",
    "                                                      ('BACH', 'pricing'),\n",
    "                                                      ('Sta-Repl','sigma'),\n",
    "                                                      ('Sta-Repl','pricing')],\n",
    "                                    )\n",
    ")"
   ]
  },
  {
   "cell_type": "code",
   "execution_count": 58,
   "id": "7af6d0e8",
   "metadata": {},
   "outputs": [],
   "source": [
    "df.iloc[:,0]=[0.004213733,0.004209706]\n",
    "df.iloc[:,1]=[37.71413781849898,25.999443889743038]\n",
    "df.iloc[:,2]=[0.004240457,0.004236360]\n",
    "df.iloc[:,3]=[37.70484676740247,25.995121607184974]\n",
    "df.iloc[:,4]=[0.006337324,0.006016732]\n",
    "df.iloc[:,5]=[37.70040702356144,25.99267260991541]\n"
   ]
  },
  {
   "cell_type": "code",
   "execution_count": 59,
   "id": "f8031d6d",
   "metadata": {},
   "outputs": [
    {
     "data": {
      "text/html": [
       "<div>\n",
       "<style scoped>\n",
       "    .dataframe tbody tr th:only-of-type {\n",
       "        vertical-align: middle;\n",
       "    }\n",
       "\n",
       "    .dataframe tbody tr th {\n",
       "        vertical-align: top;\n",
       "    }\n",
       "\n",
       "    .dataframe thead tr th {\n",
       "        text-align: left;\n",
       "    }\n",
       "</style>\n",
       "<table border=\"1\" class=\"dataframe\">\n",
       "  <thead>\n",
       "    <tr>\n",
       "      <th></th>\n",
       "      <th colspan=\"2\" halign=\"left\">BSM</th>\n",
       "      <th colspan=\"2\" halign=\"left\">BACH</th>\n",
       "      <th colspan=\"2\" halign=\"left\">Sta-Repl</th>\n",
       "    </tr>\n",
       "    <tr>\n",
       "      <th></th>\n",
       "      <th>sigma</th>\n",
       "      <th>pricing</th>\n",
       "      <th>sigma</th>\n",
       "      <th>pricing</th>\n",
       "      <th>sigma</th>\n",
       "      <th>pricing</th>\n",
       "    </tr>\n",
       "  </thead>\n",
       "  <tbody>\n",
       "    <tr>\n",
       "      <th>SPX</th>\n",
       "      <td>0.004214</td>\n",
       "      <td>37.714138</td>\n",
       "      <td>0.00424</td>\n",
       "      <td>37.704847</td>\n",
       "      <td>0.006337</td>\n",
       "      <td>37.700407</td>\n",
       "    </tr>\n",
       "    <tr>\n",
       "      <th>SPY</th>\n",
       "      <td>0.00421</td>\n",
       "      <td>25.999444</td>\n",
       "      <td>0.004236</td>\n",
       "      <td>25.995122</td>\n",
       "      <td>0.006017</td>\n",
       "      <td>25.992673</td>\n",
       "    </tr>\n",
       "  </tbody>\n",
       "</table>\n",
       "</div>"
      ],
      "text/plain": [
       "          BSM                 BACH             Sta-Repl           \n",
       "        sigma    pricing     sigma    pricing     sigma    pricing\n",
       "SPX  0.004214  37.714138   0.00424  37.704847  0.006337  37.700407\n",
       "SPY   0.00421  25.999444  0.004236  25.995122  0.006017  25.992673"
      ]
     },
     "execution_count": 59,
     "metadata": {},
     "output_type": "execute_result"
    }
   ],
   "source": [
    "df"
   ]
  },
  {
   "cell_type": "code",
   "execution_count": null,
   "id": "5029c1d9",
   "metadata": {},
   "outputs": [],
   "source": []
  }
 ],
 "metadata": {
  "kernelspec": {
   "display_name": "Python 3 (ipykernel)",
   "language": "python",
   "name": "python3"
  },
  "language_info": {
   "codemirror_mode": {
    "name": "ipython",
    "version": 3
   },
   "file_extension": ".py",
   "mimetype": "text/x-python",
   "name": "python",
   "nbconvert_exporter": "python",
   "pygments_lexer": "ipython3",
   "version": "3.11.3"
  }
 },
 "nbformat": 4,
 "nbformat_minor": 5
}
