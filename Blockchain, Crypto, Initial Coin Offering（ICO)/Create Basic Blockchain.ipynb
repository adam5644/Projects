{
 "cells": [
  {
   "cell_type": "markdown",
   "id": "d38204ac",
   "metadata": {},
   "source": [
    "# Outline\n",
    "# (1) Create blockchain\n",
    "- Creating blockchain\n",
    "    - Create blocks\n",
    "    - Proof-of-work system\n",
    "    - Chain integrity\n",
    "- Testing\n",
    "    - Test blockchain for any vulnerabilities\n",
    "    \n",
    "# (2) Create cyptocurrency\n",
    "- Tokenomics\n",
    "    - Economic structure of coin\n",
    "        - Total supply, distribution method etc\n",
    "- Development\n",
    "    - Create cryptocurrency on top of blockchain\n",
    "    - Create a system for transactions and wallets\n",
    "    \n",
    "# (3) Create website\n",
    "- Create website to showcase the coin\n",
    "    - About the coin, technology etc\n",
    "- Visitors to vote on their interest\n",
    "\n",
    "# -----------------------------------------------"
   ]
  },
  {
   "cell_type": "markdown",
   "id": "6223a48e",
   "metadata": {},
   "source": [
    "# (1) Create blockchain\n",
    "- A blockchain is a linked list, where each block contains data and a hash of the previous block, creating a chain\n",
    "\n",
    "# (1.1) Create a basic block\n",
    "- import hashlib\n",
    "    - Popular library for secure hash and message digest algorithm, e.g. SHA1, SHA256, MD5, which are cryptographic hashing functions commonly used to check data integrity\n",
    "    - Use to create a hash value for a block (i.e. a piece of data). If the content of the block changes, so does the hash, which is a fundamental property used to secure the blockchain"
   ]
  },
  {
   "cell_type": "code",
   "execution_count": 1,
   "id": "f7ca2a02",
   "metadata": {},
   "outputs": [],
   "source": [
    "import hashlib\n",
    "import time"
   ]
  },
  {
   "cell_type": "code",
   "execution_count": 12,
   "id": "3448f4dd",
   "metadata": {},
   "outputs": [],
   "source": [
    "class Block:\n",
    "    def __init__(self, index, transactions, timestamp, previous_hash):\n",
    "        self.index = index\n",
    "        self.transactions = transactions\n",
    "        self.timestamp = timestamp\n",
    "        self.previous_hash = previous_hash\n",
    "        self.hash = self.calculate_hash()\n",
    "        \n",
    "    def calculate_hash(self):\n",
    "        block_string = f\"{self.index}{self.transactions}{self.timestamp}{self.previous_hash}\"\n",
    "        return hashlib.sha256(block_string.encode()).hexdigest()"
   ]
  },
  {
   "cell_type": "markdown",
   "id": "ef085e90",
   "metadata": {},
   "source": [
    "### Example to create and change hash value using hashlib\n",
    "- 'b' in front of 'Hello World' creates a byte string, which is the required input type for 'hashlib' hashing functions\n",
    "- 'hexdigest()' method converts hash object to a hexadecimal string (which is a common way to represent hash value)"
   ]
  },
  {
   "cell_type": "code",
   "execution_count": 17,
   "id": "98e430d1",
   "metadata": {},
   "outputs": [
    {
     "name": "stdout",
     "output_type": "stream",
     "text": [
      "initial =  a591a6d40bf420404a011733cfb7b190d62c65bf0bcda32b57b277d9ad9f146e\n",
      "new =  36c1d289e84aa3e7042e8630368ef84afc14ea00a08c4b495a35f0572cb19b48\n",
      "new 2 =  a591a6d40bf420404a011733cfb7b190d62c65bf0bcda32b57b277d9ad9f146e\n"
     ]
    }
   ],
   "source": [
    "# Create a SHA-256 hash object\n",
    "hash_object = hashlib.sha256(b'Hello World')\n",
    "\n",
    "# Get the hexadecimal representation of the hash\n",
    "hex_dig = hash_object.hexdigest()\n",
    "\n",
    "print('initial = ', hex_dig)\n",
    "\n",
    "# Create a SHA-256 hash object with a different input, e.g., 'Hello SMU'\n",
    "hash_object = hashlib.sha256(b'Hello SMU')\n",
    "\n",
    "# Get the hexadecimal representation of the hash\n",
    "hex_dig = hash_object.hexdigest()\n",
    "\n",
    "print('new = ', hex_dig)\n",
    "\n",
    "hash_object = hashlib.sha256(b'Hello World')\n",
    "\n",
    "# Get the hexadecimal representation of the hash\n",
    "hex_dig = hash_object.hexdigest()\n",
    "\n",
    "print('new 2 = ', hex_dig)"
   ]
  },
  {
   "cell_type": "markdown",
   "id": "92b9f767",
   "metadata": {},
   "source": [
    "# (1.2) Define the blockchain\n",
    "- Create a blockchain class to manage the chain of blocks\n",
    "- Genesis block : the first block in the chain \n",
    "    - foundation upon which more blocks are added\n",
    "    - the details of the genesis block are hardcoded into the blockchain's software. Its previous hash value is often set to a default value, like '0'\n",
    "    - integrity and security of blockchain is based on immutability of the genesis block\n",
    "        - cannot be changed. Changing it will invalidate the entire blockchain\n",
    "        - In blockchain, each block make reference to the hash of its predecessor block, linking all the way back to genesis block. \n",
    "        - Any change to the genesis block will change its hash value, hence making all blocks invalid because their references (previous hash values) would no longer match"
   ]
  },
  {
   "cell_type": "code",
   "execution_count": 10,
   "id": "c52618e8",
   "metadata": {},
   "outputs": [],
   "source": [
    "class Blockchain:\n",
    "    def __init__(self):\n",
    "        self.chain = []\n",
    "        self.create_genesis_block()\n",
    "        \n",
    "    def create_genesis_block(self):\n",
    "        genesis_block = Block(0, [], time.time(), '0')\n",
    "        self.chain.append(genesis_block)\n",
    "        \n",
    "    def add_block(self, block):\n",
    "        block.previous_hash = self.chain[-1].hash # create attribute\n",
    "        block.hash = block.calculate_hash() # create attribute\n",
    "        self.chain.append(block)\n",
    "        \n",
    "    def is_valid(self):\n",
    "        for i in range(1, len(self.chain)):\n",
    "            current = self.chain[i]\n",
    "            previous = self.chain[i-1]\n",
    "            \n",
    "            if current.hash != current.calculate_hash():\n",
    "                return False\n",
    "            if current.previous_hash != previous.hash:\n",
    "                return False\n",
    "        return True"
   ]
  },
  {
   "cell_type": "markdown",
   "id": "58803ef5",
   "metadata": {},
   "source": [
    "# (1.3) Test blockchain"
   ]
  },
  {
   "cell_type": "code",
   "execution_count": 13,
   "id": "ce65c89e",
   "metadata": {},
   "outputs": [],
   "source": [
    "blockchain = Blockchain()"
   ]
  },
  {
   "cell_type": "code",
   "execution_count": 15,
   "id": "07e4bb7b",
   "metadata": {},
   "outputs": [
    {
     "name": "stdout",
     "output_type": "stream",
     "text": [
      "Is blockchain valid?  True\n",
      "Block 0: 5f484566721504458bf8dbdaebd1b22446302519d09e2db7c7a8a796530fd33f\n",
      "Block 1: de1b63addfe83b096b8a82b7183eca3151942d3556023635a4e68f6f886c097b\n",
      "Block 2: af0012e6c694ad3bbc5f61403b7f261458970078c7b3a657dc7001769ee2bc02\n"
     ]
    }
   ],
   "source": [
    "blockchain.add_block(Block(1, ['Transaction 1'], time.time(), blockchain.chain[-1].hash))\n",
    "blockchain.add_block(Block(2, ['Transaction 2'], time.time(), blockchain.chain[-1].hash))\n",
    "\n",
    "print('Is blockchain valid? ', blockchain.is_valid())\n",
    "\n",
    "for block in blockchain.chain:\n",
    "    print(f'Block {block.index}: {block.hash}')"
   ]
  },
  {
   "cell_type": "code",
   "execution_count": 23,
   "id": "04a320f9",
   "metadata": {},
   "outputs": [
    {
     "data": {
      "text/plain": [
       "['Transaction 1']"
      ]
     },
     "execution_count": 23,
     "metadata": {},
     "output_type": "execute_result"
    }
   ],
   "source": [
    "blockchain.chain[1].transactions"
   ]
  },
  {
   "cell_type": "code",
   "execution_count": 24,
   "id": "057c8214",
   "metadata": {},
   "outputs": [
    {
     "data": {
      "text/plain": [
       "'de1b63addfe83b096b8a82b7183eca3151942d3556023635a4e68f6f886c097b'"
      ]
     },
     "execution_count": 24,
     "metadata": {},
     "output_type": "execute_result"
    }
   ],
   "source": [
    "blockchain.chain[1].hash"
   ]
  },
  {
   "cell_type": "code",
   "execution_count": null,
   "id": "b9ae194c",
   "metadata": {},
   "outputs": [],
   "source": [
    "previous_hash"
   ]
  }
 ],
 "metadata": {
  "kernelspec": {
   "display_name": "Python 3 (ipykernel)",
   "language": "python",
   "name": "python3"
  },
  "language_info": {
   "codemirror_mode": {
    "name": "ipython",
    "version": 3
   },
   "file_extension": ".py",
   "mimetype": "text/x-python",
   "name": "python",
   "nbconvert_exporter": "python",
   "pygments_lexer": "ipython3",
   "version": "3.11.5"
  }
 },
 "nbformat": 4,
 "nbformat_minor": 5
}
