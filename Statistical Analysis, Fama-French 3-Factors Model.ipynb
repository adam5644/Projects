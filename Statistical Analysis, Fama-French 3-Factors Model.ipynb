{
 "cells": [
  {
   "cell_type": "code",
   "execution_count": 10,
   "id": "b26aa564",
   "metadata": {},
   "outputs": [],
   "source": [
    "# columns = Rm, Rf, Rm - Rf, SMB, HML, MOM, RMW, CMA, SMBff5\n",
    "# capm: Ri - Rf = a + b(Rm - Rf) + e\n",
    "# 3f: Ri - Rf = a + b1 (Rm - Rf) + b2 (SMB) + b3(HML) + e\n",
    "# 4f: Ri - Rf = a + b1 (Rm - Rf) + b2 (SMB) + b3(HML) + b4 (MOM) + e\n",
    "# 5f: Ri - Rf = a + b1 (Rm - Rf) + b2 (SMBff5) + b3(RMW) + b4 (CMA) + e"
   ]
  },
  {
   "cell_type": "code",
   "execution_count": 11,
   "id": "b45cf47b",
   "metadata": {},
   "outputs": [],
   "source": [
    "import pandas as pd\n",
    "import statsmodels.api as sm\n",
    "from statsmodels.stats.stattools import durbin_watson\n",
    "import warnings\n",
    "warnings.filterwarnings('ignore')\n",
    "from statsmodels.stats.diagnostic import acorr_breusch_godfrey\n",
    "\n",
    "# Load the data\n",
    "df = pd.read_csv(\"C:/Users/adam chem/smu/QF603QA/PROJECT/DATATOMODEL_VER1.csv\")\n",
    "asset_i_df = pd.read_csv(\"C:/Users/adam chem/smu/QF603QA/PROJECT/to_be_used_as_ri.csv\")"
   ]
  },
  {
   "cell_type": "code",
   "execution_count": 12,
   "id": "756dc968",
   "metadata": {},
   "outputs": [],
   "source": [
    "# capm\n",
    "# Initialize an empty DataFrame to store summaries\n",
    "capm = pd.DataFrame()\n",
    "metrics_list = []\n",
    "\n",
    "for each in asset_i_df.columns:        \n",
    "    # Create the 'ri_rf' column\n",
    "    ri = df[each]\n",
    "    df['ri_rf'] = ri - df['Rf']\n",
    "\n",
    "    # Initialize predictors based on the model type\n",
    "    predictors = ['Rm - Rf']  # For CAPM\n",
    "\n",
    "    # Add a constant term for the intercept\n",
    "    X = sm.add_constant(df[predictors])\n",
    "\n",
    "    # Fit the OLS model\n",
    "    model = sm.OLS(df['ri_rf'], X).fit()\n",
    "    \n",
    "    # Inside your loop, after fitting the model\n",
    "    bg_test = acorr_breusch_godfrey(model, nlags=1)  # Change nlags based on what you need\n",
    "    bg_stat, bg_pvalue, _, _ = bg_test\n",
    "\n",
    "    # Calculate Durbin-Watson statistic\n",
    "    dw_stat = durbin_watson(model.resid)\n",
    "\n",
    "    # Calculate Jarque-Bera p-value\n",
    "    _, _, _, jb_pvalue = sm.stats.jarque_bera(model.resid)\n",
    "\n",
    "    # Extract and store the relevant metrics\n",
    "    metrics = {\n",
    "        'Model_Type': 'CAPM',\n",
    "        'Asset': each,\n",
    "        'Adj_R_Squared': model.rsquared_adj,\n",
    "        'Prob_F_Stat': model.f_pvalue,\n",
    "        'BIC': model.bic,\n",
    "        'P_value_alpha': model.pvalues['const'],\n",
    "        'P_value_Rm_minus_Rf': model.pvalues['Rm - Rf'],\n",
    "        'Durbin_Watson': dw_stat,\n",
    "        'Prob_JB': jb_pvalue,\n",
    "        'Cond_No': model.condition_number,\n",
    "        'BG_Stat': bg_stat,\n",
    "        'BG_Pvalue':bg_pvalue\n",
    "    }\n",
    "    metrics_list.append(metrics)\n",
    "    capm = pd.DataFrame(metrics_list)"
   ]
  },
  {
   "cell_type": "code",
   "execution_count": 13,
   "id": "e7c1b56c",
   "metadata": {},
   "outputs": [],
   "source": [
    "# ff3\n",
    "import pandas as pd\n",
    "import statsmodels.api as sm\n",
    "from statsmodels.stats.stattools import durbin_watson\n",
    "\n",
    "# Initialize an empty DataFrame to store summaries\n",
    "ff3 = pd.DataFrame()\n",
    "metrics_list = []\n",
    "\n",
    "for each in asset_i_df.columns:        \n",
    "    # Create the 'ri_rf' column\n",
    "    ri = df[each]\n",
    "    df['ri_rf'] = ri - df['Rf']\n",
    "\n",
    "    # Initialize predictors based on the model type\n",
    "    predictors = ['Rm - Rf', 'SMB', 'HML']\n",
    "\n",
    "    # Add a constant term for the intercept\n",
    "    X = sm.add_constant(df[predictors])\n",
    "\n",
    "    # Fit the OLS model\n",
    "    model = sm.OLS(df['ri_rf'], X).fit()\n",
    "\n",
    "    # Inside your loop, after fitting the model\n",
    "    bg_test = acorr_breusch_godfrey(model, nlags=1)  # Change nlags based on what you need\n",
    "    bg_stat, bg_pvalue, _, _ = bg_test\n",
    "    \n",
    "    # Calculate Durbin-Watson statistic\n",
    "    dw_stat = durbin_watson(model.resid)\n",
    "\n",
    "    # Calculate Jarque-Bera p-value\n",
    "    _, _, _, jb_pvalue = sm.stats.jarque_bera(model.resid)\n",
    "\n",
    "    # Extract and store the relevant metrics\n",
    "    metrics = {\n",
    "        'Model_Type': 'FF3',\n",
    "        'Asset': each,\n",
    "        'Adj_R_Squared': model.rsquared_adj,\n",
    "        'Prob_F_Stat': model.f_pvalue,\n",
    "        'BIC': model.bic,\n",
    "        'P_value_alpha': model.pvalues['const'],\n",
    "        'P_value_Rm_minus_Rf': model.pvalues['Rm - Rf'],\n",
    "        'P_value_SMB': model.pvalues['SMB'],\n",
    "        'P_value_HML': model.pvalues['HML'],\n",
    "        'Durbin_Watson': dw_stat,\n",
    "        'Prob_JB': jb_pvalue,\n",
    "        'Cond_No': model.condition_number,\n",
    "        'BG_Stat': bg_stat,\n",
    "        'BG_Pvalue':bg_pvalue\n",
    "    }\n",
    "    metrics_list.append(metrics)\n",
    "    ff3 = pd.DataFrame(metrics_list)"
   ]
  },
  {
   "cell_type": "code",
   "execution_count": 14,
   "id": "97ee15ca",
   "metadata": {
    "scrolled": true
   },
   "outputs": [],
   "source": [
    "# ff4\n",
    "import pandas as pd\n",
    "import statsmodels.api as sm\n",
    "from statsmodels.stats.stattools import durbin_watson\n",
    "\n",
    "# Initialize an empty DataFrame to store summaries\n",
    "ff4 = pd.DataFrame()\n",
    "metrics_list = []\n",
    "\n",
    "for each in asset_i_df.columns:        \n",
    "    # Create the 'ri_rf' column\n",
    "    ri = df[each]\n",
    "    df['ri_rf'] = ri - df['Rf']\n",
    "\n",
    "    # Initialize predictors based on the model type\n",
    "    predictors = ['Rm - Rf', 'SMB', 'HML', 'MOM']\n",
    "\n",
    "    # Add a constant term for the intercept\n",
    "    X = sm.add_constant(df[predictors])\n",
    "\n",
    "    # Fit the OLS model\n",
    "    model = sm.OLS(df['ri_rf'], X).fit()\n",
    "    \n",
    "    # Inside your loop, after fitting the model\n",
    "    bg_test = acorr_breusch_godfrey(model, nlags=1)  # Change nlags based on what you need\n",
    "    bg_stat, bg_pvalue, _, _ = bg_test\n",
    "    \n",
    "    # Calculate Durbin-Watson statistic\n",
    "    dw_stat = durbin_watson(model.resid)\n",
    "\n",
    "    # Calculate Jarque-Bera p-value\n",
    "    _, _, _, jb_pvalue = sm.stats.jarque_bera(model.resid)\n",
    "\n",
    "    # Extract and store the relevant metrics\n",
    "    metrics = {\n",
    "        'Model_Type': 'FF4',\n",
    "        'Asset': each,\n",
    "        'Adj_R_Squared': model.rsquared_adj,\n",
    "        'Prob_F_Stat': model.f_pvalue,\n",
    "        'BIC': model.bic,\n",
    "        'P_value_alpha': model.pvalues['const'],\n",
    "        'P_value_Rm_minus_Rf': model.pvalues['Rm - Rf'],\n",
    "        'P_value_SMB': model.pvalues['SMB'],\n",
    "        'P_value_HML': model.pvalues['HML'],\n",
    "        'P_value_MOM': model.pvalues['MOM'],\n",
    "        'Durbin_Watson': dw_stat,\n",
    "        'Prob_JB': jb_pvalue,\n",
    "        'Cond_No': model.condition_number,\n",
    "        'BG_Stat': bg_stat,\n",
    "        'BG_Pvalue':bg_pvalue\n",
    "    }\n",
    "    metrics_list.append(metrics)\n",
    "    ff4 = pd.DataFrame(metrics_list)"
   ]
  },
  {
   "cell_type": "code",
   "execution_count": 15,
   "id": "cc36bcb2",
   "metadata": {},
   "outputs": [
    {
     "data": {
      "text/plain": [
       "Index(['s/h', 's/n', 's/l', 'b/h', 'b/n', 'b/l', 's/w', 's/m', 's/r', 'b/w',\n",
       "       'b/m', 'b/r', 's/c', 's/n.1', 's/a', 'b/c', 'b/n.1', 'b/a'],\n",
       "      dtype='object')"
      ]
     },
     "execution_count": 15,
     "metadata": {},
     "output_type": "execute_result"
    }
   ],
   "source": [
    "asset_i_df.columns"
   ]
  },
  {
   "cell_type": "code",
   "execution_count": 16,
   "id": "ee6ade70",
   "metadata": {},
   "outputs": [],
   "source": [
    "# ff5\n",
    "import pandas as pd\n",
    "import statsmodels.api as sm\n",
    "from statsmodels.stats.stattools import durbin_watson\n",
    "\n",
    "# Initialize an empty DataFrame to store summaries\n",
    "ff5 = pd.DataFrame()\n",
    "metrics_list = []\n",
    "\n",
    "for each in asset_i_df.columns:        \n",
    "    # Create the 'ri_rf' column\n",
    "    ri = df[each]\n",
    "    df['ri_rf'] = ri - df['Rf']\n",
    "\n",
    "    # Initialize predictors based on the model type\n",
    "    predictors = ['Rm - Rf', 'SMBff5', 'RMW', 'CMA']\n",
    "\n",
    "    # Add a constant term for the intercept\n",
    "    X = sm.add_constant(df[predictors])\n",
    "\n",
    "    # Fit the OLS model\n",
    "    model = sm.OLS(df['ri_rf'], X).fit()\n",
    "    \n",
    "    # Inside your loop, after fitting the model\n",
    "    bg_test = acorr_breusch_godfrey(model, nlags=1)  # Change nlags based on what you need\n",
    "    bg_stat, bg_pvalue, _, _ = bg_test\n",
    "\n",
    "    \n",
    "    # Calculate Durbin-Watson statistic\n",
    "    dw_stat = durbin_watson(model.resid)\n",
    "\n",
    "    # Calculate Jarque-Bera p-value\n",
    "    _, _, _, jb_pvalue = sm.stats.jarque_bera(model.resid)\n",
    "\n",
    "    # Extract and store the relevant metrics\n",
    "    metrics = {\n",
    "        'Model_Type': 'FF5',\n",
    "        'Asset': each,\n",
    "        'Adj_R_Squared': model.rsquared_adj,\n",
    "        'Prob_F_Stat': model.f_pvalue,\n",
    "        'BIC': model.bic,\n",
    "        'P_value_alpha': model.pvalues['const'],\n",
    "        'P_value_Rm_minus_Rf': model.pvalues['Rm - Rf'],\n",
    "        'P_value_SMB': model.pvalues['SMBff5'],\n",
    "        'P_value_HML': model.pvalues['RMW'],\n",
    "        'P_value_MOM': model.pvalues['CMA'],\n",
    "        'Durbin_Watson': dw_stat,\n",
    "        'Prob_JB': jb_pvalue,\n",
    "        'Cond_No': model.condition_number,\n",
    "        'BG_Stat': bg_stat,\n",
    "        'BG_Pvalue':bg_pvalue\n",
    "    }\n",
    "    metrics_list.append(metrics)\n",
    "    ff5 = pd.DataFrame(metrics_list)"
   ]
  },
  {
   "cell_type": "code",
   "execution_count": 30,
   "id": "3261201b",
   "metadata": {},
   "outputs": [],
   "source": [
    "summary_df = pd.concat([capm, ff3, ff4, ff5], axis=1)"
   ]
  },
  {
   "cell_type": "code",
   "execution_count": 17,
   "id": "78c93889",
   "metadata": {},
   "outputs": [
    {
     "name": "stdout",
     "output_type": "stream",
     "text": [
      "-247.46892632750138\n",
      "-271.5368250382058\n",
      "-273.69311499179076\n",
      "-276.7166940085336\n"
     ]
    }
   ],
   "source": [
    "print(capm['BIC'].mean())\n",
    "print(ff3['BIC'].mean())\n",
    "print(ff4['BIC'].mean())\n",
    "print(ff5['BIC'].mean())\n",
    "# ff5 is the best as it has lowest bic"
   ]
  },
  {
   "cell_type": "code",
   "execution_count": 18,
   "id": "2298c5e4",
   "metadata": {},
   "outputs": [
    {
     "name": "stdout",
     "output_type": "stream",
     "text": [
      "0.7480503150808038\n",
      "0.8594842051339835\n",
      "0.8708469610881764\n",
      "0.8794171210687622\n"
     ]
    }
   ],
   "source": [
    "print(capm['Adj_R_Squared'].mean())\n",
    "print(ff3['Adj_R_Squared'].mean())\n",
    "print(ff4['Adj_R_Squared'].mean())\n",
    "print(ff5['Adj_R_Squared'].mean())\n",
    "# ff5 is the best as it has highest adjustede R^2"
   ]
  },
  {
   "cell_type": "code",
   "execution_count": 19,
   "id": "5553d3f0",
   "metadata": {},
   "outputs": [
    {
     "data": {
      "text/plain": [
       "count    1.800000e+01\n",
       "mean     4.273948e-21\n",
       "std      1.652530e-20\n",
       "min      1.056755e-31\n",
       "25%      1.192979e-27\n",
       "50%      3.370325e-26\n",
       "75%      8.368052e-23\n",
       "max      7.022001e-20\n",
       "Name: Prob_F_Stat, dtype: float64"
      ]
     },
     "execution_count": 19,
     "metadata": {},
     "output_type": "execute_result"
    }
   ],
   "source": [
    "ff5['Prob_F_Stat'].describe()\n",
    "# near-zero p-value for f test means model is statistically significant (i.e. rej H0 that b1=b2=...=0)"
   ]
  },
  {
   "cell_type": "code",
   "execution_count": 20,
   "id": "0f15b53a",
   "metadata": {},
   "outputs": [
    {
     "data": {
      "text/html": [
       "<div>\n",
       "<style scoped>\n",
       "    .dataframe tbody tr th:only-of-type {\n",
       "        vertical-align: middle;\n",
       "    }\n",
       "\n",
       "    .dataframe tbody tr th {\n",
       "        vertical-align: top;\n",
       "    }\n",
       "\n",
       "    .dataframe thead th {\n",
       "        text-align: right;\n",
       "    }\n",
       "</style>\n",
       "<table border=\"1\" class=\"dataframe\">\n",
       "  <thead>\n",
       "    <tr style=\"text-align: right;\">\n",
       "      <th></th>\n",
       "      <th>Model_Type</th>\n",
       "      <th>Asset</th>\n",
       "      <th>Adj_R_Squared</th>\n",
       "      <th>Prob_F_Stat</th>\n",
       "      <th>BIC</th>\n",
       "      <th>P_value_alpha</th>\n",
       "      <th>P_value_Rm_minus_Rf</th>\n",
       "      <th>P_value_SMB</th>\n",
       "      <th>P_value_HML</th>\n",
       "      <th>P_value_MOM</th>\n",
       "      <th>Durbin_Watson</th>\n",
       "      <th>Prob_JB</th>\n",
       "      <th>Cond_No</th>\n",
       "      <th>BG_Stat</th>\n",
       "      <th>BG_Pvalue</th>\n",
       "    </tr>\n",
       "  </thead>\n",
       "  <tbody>\n",
       "    <tr>\n",
       "      <th>1</th>\n",
       "      <td>FF5</td>\n",
       "      <td>s/n</td>\n",
       "      <td>0.894943</td>\n",
       "      <td>4.596623e-27</td>\n",
       "      <td>-289.438136</td>\n",
       "      <td>0.021371</td>\n",
       "      <td>3.346696e-25</td>\n",
       "      <td>9.121304e-08</td>\n",
       "      <td>0.408318</td>\n",
       "      <td>0.000017</td>\n",
       "      <td>1.918422</td>\n",
       "      <td>3.2361</td>\n",
       "      <td>41.894789</td>\n",
       "      <td>0.104424</td>\n",
       "      <td>0.746584</td>\n",
       "    </tr>\n",
       "  </tbody>\n",
       "</table>\n",
       "</div>"
      ],
      "text/plain": [
       "  Model_Type Asset  Adj_R_Squared   Prob_F_Stat         BIC  P_value_alpha  \\\n",
       "1        FF5   s/n       0.894943  4.596623e-27 -289.438136       0.021371   \n",
       "\n",
       "   P_value_Rm_minus_Rf   P_value_SMB  P_value_HML  P_value_MOM  Durbin_Watson  \\\n",
       "1         3.346696e-25  9.121304e-08     0.408318     0.000017       1.918422   \n",
       "\n",
       "   Prob_JB    Cond_No   BG_Stat  BG_Pvalue  \n",
       "1   3.2361  41.894789  0.104424   0.746584  "
      ]
     },
     "execution_count": 20,
     "metadata": {},
     "output_type": "execute_result"
    }
   ],
   "source": [
    "ff5[(ff5['P_value_alpha']<=0.05)]\n",
    "# only  1 portoflio ('s/n' with coefficient of constant = 0.0068) has statistically significaint alpha (y intercept), \n",
    "# this means only this portfolio that generates nonzero excess average returns"
   ]
  },
  {
   "cell_type": "code",
   "execution_count": 21,
   "id": "3257d9b9",
   "metadata": {
    "scrolled": true
   },
   "outputs": [
    {
     "data": {
      "text/html": [
       "<div>\n",
       "<style scoped>\n",
       "    .dataframe tbody tr th:only-of-type {\n",
       "        vertical-align: middle;\n",
       "    }\n",
       "\n",
       "    .dataframe tbody tr th {\n",
       "        vertical-align: top;\n",
       "    }\n",
       "\n",
       "    .dataframe thead th {\n",
       "        text-align: right;\n",
       "    }\n",
       "</style>\n",
       "<table border=\"1\" class=\"dataframe\">\n",
       "  <thead>\n",
       "    <tr style=\"text-align: right;\">\n",
       "      <th></th>\n",
       "      <th>Model_Type</th>\n",
       "      <th>Asset</th>\n",
       "      <th>Adj_R_Squared</th>\n",
       "      <th>Prob_F_Stat</th>\n",
       "      <th>BIC</th>\n",
       "      <th>P_value_alpha</th>\n",
       "      <th>P_value_Rm_minus_Rf</th>\n",
       "      <th>P_value_SMB</th>\n",
       "      <th>P_value_HML</th>\n",
       "      <th>P_value_MOM</th>\n",
       "      <th>Durbin_Watson</th>\n",
       "      <th>Prob_JB</th>\n",
       "      <th>Cond_No</th>\n",
       "      <th>BG_Stat</th>\n",
       "      <th>BG_Pvalue</th>\n",
       "    </tr>\n",
       "  </thead>\n",
       "  <tbody>\n",
       "    <tr>\n",
       "      <th>7</th>\n",
       "      <td>FF5</td>\n",
       "      <td>s/m</td>\n",
       "      <td>0.892729</td>\n",
       "      <td>8.138663e-27</td>\n",
       "      <td>-288.599780</td>\n",
       "      <td>0.596088</td>\n",
       "      <td>4.062610e-24</td>\n",
       "      <td>8.361030e-10</td>\n",
       "      <td>1.669865e-02</td>\n",
       "      <td>0.000012</td>\n",
       "      <td>2.491031</td>\n",
       "      <td>2.473235</td>\n",
       "      <td>41.894789</td>\n",
       "      <td>4.136559</td>\n",
       "      <td>0.041966</td>\n",
       "    </tr>\n",
       "    <tr>\n",
       "      <th>8</th>\n",
       "      <td>FF5</td>\n",
       "      <td>s/r</td>\n",
       "      <td>0.885498</td>\n",
       "      <td>4.858829e-26</td>\n",
       "      <td>-247.470748</td>\n",
       "      <td>0.595198</td>\n",
       "      <td>2.014458e-19</td>\n",
       "      <td>1.436166e-12</td>\n",
       "      <td>3.686553e-10</td>\n",
       "      <td>0.012478</td>\n",
       "      <td>2.144751</td>\n",
       "      <td>2.779548</td>\n",
       "      <td>41.894789</td>\n",
       "      <td>0.818995</td>\n",
       "      <td>0.365474</td>\n",
       "    </tr>\n",
       "  </tbody>\n",
       "</table>\n",
       "</div>"
      ],
      "text/plain": [
       "  Model_Type Asset  Adj_R_Squared   Prob_F_Stat         BIC  P_value_alpha  \\\n",
       "7        FF5   s/m       0.892729  8.138663e-27 -288.599780       0.596088   \n",
       "8        FF5   s/r       0.885498  4.858829e-26 -247.470748       0.595198   \n",
       "\n",
       "   P_value_Rm_minus_Rf   P_value_SMB   P_value_HML  P_value_MOM  \\\n",
       "7         4.062610e-24  8.361030e-10  1.669865e-02     0.000012   \n",
       "8         2.014458e-19  1.436166e-12  3.686553e-10     0.012478   \n",
       "\n",
       "   Durbin_Watson   Prob_JB    Cond_No   BG_Stat  BG_Pvalue  \n",
       "7       2.491031  2.473235  41.894789  4.136559   0.041966  \n",
       "8       2.144751  2.779548  41.894789  0.818995   0.365474  "
      ]
     },
     "execution_count": 21,
     "metadata": {},
     "output_type": "execute_result"
    }
   ],
   "source": [
    "ff5[(ff5['P_value_Rm_minus_Rf']<=0.05) & (ff5['P_value_SMB']<=0.05) & (ff5['P_value_HML']<=0.05) & (ff5['P_value_MOM']<=0.05)]\n",
    "# 2 portfolios has statistically significant other 4 factors"
   ]
  },
  {
   "cell_type": "code",
   "execution_count": 22,
   "id": "bc74778e",
   "metadata": {},
   "outputs": [
    {
     "data": {
      "text/plain": [
       "9"
      ]
     },
     "execution_count": 22,
     "metadata": {},
     "output_type": "execute_result"
    }
   ],
   "source": [
    "len(ff5[ff5['P_value_SMB']<=0.05])\n",
    "# 9 portfolios has statistically significant smb"
   ]
  },
  {
   "cell_type": "code",
   "execution_count": 23,
   "id": "9debcbab",
   "metadata": {},
   "outputs": [
    {
     "data": {
      "text/plain": [
       "4"
      ]
     },
     "execution_count": 23,
     "metadata": {},
     "output_type": "execute_result"
    }
   ],
   "source": [
    "len(ff5[ff5['P_value_HML']<=0.05])\n",
    "# 4 portfolios has statistically significant smb"
   ]
  },
  {
   "cell_type": "code",
   "execution_count": 24,
   "id": "63e98df1",
   "metadata": {},
   "outputs": [
    {
     "data": {
      "text/plain": [
       "13"
      ]
     },
     "execution_count": 24,
     "metadata": {},
     "output_type": "execute_result"
    }
   ],
   "source": [
    "len(ff5[ff5['P_value_MOM']<=0.05])\n",
    "# 13 portfolios has statistically significant smb"
   ]
  },
  {
   "cell_type": "code",
   "execution_count": 37,
   "id": "be41196c",
   "metadata": {
    "scrolled": true
   },
   "outputs": [
    {
     "data": {
      "text/plain": [
       "18"
      ]
     },
     "execution_count": 37,
     "metadata": {},
     "output_type": "execute_result"
    }
   ],
   "source": [
    "len(ff5[ff5['P_value_Rm_minus_Rf'] <=0.05])\n",
    "# all 18 ff5 portfolio has statistically significant beta "
   ]
  },
  {
   "cell_type": "code",
   "execution_count": 38,
   "id": "d4cdce25",
   "metadata": {},
   "outputs": [
    {
     "data": {
      "text/plain": [
       "0"
      ]
     },
     "execution_count": 38,
     "metadata": {},
     "output_type": "execute_result"
    }
   ],
   "source": [
    "len(ff5[ff5['Prob_JB']<=0.05])\n",
    "# all portfolios has residual are normally distributed"
   ]
  },
  {
   "cell_type": "code",
   "execution_count": 39,
   "id": "0e97d428",
   "metadata": {},
   "outputs": [
    {
     "data": {
      "text/plain": [
       "(array([1., 0., 0., 1., 6., 2., 2., 2., 2., 2.]),\n",
       " array([1.52941104, 1.62763509, 1.72585914, 1.82408319, 1.92230725,\n",
       "        2.0205313 , 2.11875535, 2.2169794 , 2.31520345, 2.41342751,\n",
       "        2.51165156]),\n",
       " <BarContainer object of 10 artists>)"
      ]
     },
     "execution_count": 39,
     "metadata": {},
     "output_type": "execute_result"
    },
    {
     "data": {
      "image/png": "[encoded data removed]",
      "text/plain": [
       "<Figure size 640x480 with 1 Axes>"
      ]
     },
     "metadata": {},
     "output_type": "display_data"
    }
   ],
   "source": [
    "ff5['Durbin_Watson'].describe()\n",
    "import matplotlib.pyplot as plt\n",
    "plt.hist(ff5['Durbin_Watson'], bins=10, edgecolor='black')\n",
    "# dw value near 2 means no serial correlation\n",
    "# ask prof about what value means there is serial correlation"
   ]
  },
  {
   "cell_type": "code",
   "execution_count": 47,
   "id": "77f965ad",
   "metadata": {},
   "outputs": [
    {
     "data": {
      "text/plain": [
       "2"
      ]
     },
     "execution_count": 47,
     "metadata": {},
     "output_type": "execute_result"
    }
   ],
   "source": [
    "len(ff5[ff5['BG_Pvalue']<=0.05])\n",
    "# bg test for autocorrelation in more than 1 lags --> only 2 ff5 portfolios has no multi-lgs autocorrelation"
   ]
  },
  {
   "cell_type": "code",
   "execution_count": 40,
   "id": "078876cd",
   "metadata": {},
   "outputs": [
    {
     "data": {
      "text/plain": [
       "0     41.894789\n",
       "1     41.894789\n",
       "2     41.894789\n",
       "3     41.894789\n",
       "4     41.894789\n",
       "5     41.894789\n",
       "6     41.894789\n",
       "7     41.894789\n",
       "8     41.894789\n",
       "9     41.894789\n",
       "10    41.894789\n",
       "11    41.894789\n",
       "12    41.894789\n",
       "13    41.894789\n",
       "14    41.894789\n",
       "15    41.894789\n",
       "16    41.894789\n",
       "17    41.894789\n",
       "Name: Cond_No, dtype: float64"
      ]
     },
     "execution_count": 40,
     "metadata": {},
     "output_type": "execute_result"
    }
   ],
   "source": [
    "ff5['Cond_No']\n",
    "# between 30-100 means moederate multicollinearity, means some variables are moerately correlated, hence not easy\n",
    "# to isolate the impact one single predictor onto the independent variable\n",
    "# only capm model has <30 cond_no, the other 3 has >30\n",
    "\n",
    "# why the 'condition number' is the same for all portfolio in each model?\n",
    "# Identical Input Data: If the portfolios in each model are constructed using the same underlying data for independent variables, the condition number will naturally be identical.\n",
    "# Model Structure: If the equation structure is consistent across portfolios, then the condition number is likely to be the same. For instance, if you're using the same variables to construct the CAPM or Fama-French models for each portfolio, then the condition number will remain consistent."
   ]
  },
  {
   "cell_type": "code",
   "execution_count": 41,
   "id": "9d573b05",
   "metadata": {},
   "outputs": [
    {
     "data": {
      "text/plain": [
       "0     19.948979\n",
       "1     19.948979\n",
       "2     19.948979\n",
       "3     19.948979\n",
       "4     19.948979\n",
       "5     19.948979\n",
       "6     19.948979\n",
       "7     19.948979\n",
       "8     19.948979\n",
       "9     19.948979\n",
       "10    19.948979\n",
       "11    19.948979\n",
       "12    19.948979\n",
       "13    19.948979\n",
       "14    19.948979\n",
       "15    19.948979\n",
       "16    19.948979\n",
       "17    19.948979\n",
       "Name: Cond_No, dtype: float64"
      ]
     },
     "execution_count": 41,
     "metadata": {},
     "output_type": "execute_result"
    }
   ],
   "source": [
    "capm['Cond_No']"
   ]
  },
  {
   "cell_type": "code",
   "execution_count": 42,
   "id": "929a1a1a",
   "metadata": {},
   "outputs": [
    {
     "data": {
      "text/plain": [
       "0     35.341855\n",
       "1     35.341855\n",
       "2     35.341855\n",
       "3     35.341855\n",
       "4     35.341855\n",
       "5     35.341855\n",
       "6     35.341855\n",
       "7     35.341855\n",
       "8     35.341855\n",
       "9     35.341855\n",
       "10    35.341855\n",
       "11    35.341855\n",
       "12    35.341855\n",
       "13    35.341855\n",
       "14    35.341855\n",
       "15    35.341855\n",
       "16    35.341855\n",
       "17    35.341855\n",
       "Name: Cond_No, dtype: float64"
      ]
     },
     "execution_count": 42,
     "metadata": {},
     "output_type": "execute_result"
    }
   ],
   "source": [
    "ff3['Cond_No']"
   ]
  },
  {
   "cell_type": "code",
   "execution_count": 43,
   "id": "99b02c98",
   "metadata": {},
   "outputs": [
    {
     "data": {
      "text/plain": [
       "0     43.751995\n",
       "1     43.751995\n",
       "2     43.751995\n",
       "3     43.751995\n",
       "4     43.751995\n",
       "5     43.751995\n",
       "6     43.751995\n",
       "7     43.751995\n",
       "8     43.751995\n",
       "9     43.751995\n",
       "10    43.751995\n",
       "11    43.751995\n",
       "12    43.751995\n",
       "13    43.751995\n",
       "14    43.751995\n",
       "15    43.751995\n",
       "16    43.751995\n",
       "17    43.751995\n",
       "Name: Cond_No, dtype: float64"
      ]
     },
     "execution_count": 43,
     "metadata": {},
     "output_type": "execute_result"
    }
   ],
   "source": [
    "ff4['Cond_No']"
   ]
  }
 ],
 "metadata": {
  "kernelspec": {
   "display_name": "Python 3 (ipykernel)",
   "language": "python",
   "name": "python3"
  },
  "language_info": {
   "codemirror_mode": {
    "name": "ipython",
    "version": 3
   },
   "file_extension": ".py",
   "mimetype": "text/x-python",
   "name": "python",
   "nbconvert_exporter": "python",
   "pygments_lexer": "ipython3",
   "version": "3.11.5"
  }
 },
 "nbformat": 4,
 "nbformat_minor": 5
}
