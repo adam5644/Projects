{
 "cells": [
  {
   "cell_type": "markdown",
   "id": "bdc8f768",
   "metadata": {},
   "source": [
    "# Research Topic\n",
    "- Using audit opinions to predict credit rating of stocks\n",
    "- Natural Language Processing (NLP) using TF-IDF (Term Frequency-Inverse Document Frequency)\n",
    "- XG Boosting\n",
    "- Stratified K-folds Cross-validation\n",
    "- Data used : critical audit opinions released in year 2023, as available on Wharton Research Data Services (WRDS), credit rating for year 2023, for 104 companies\n",
    "\n",
    "# Model Performance\n",
    "- Mean Absolute Error (MAE) of 2.6 (total range of credit rating is 22)"
   ]
  },
  {
   "cell_type": "code",
   "execution_count": 200,
   "id": "6b1524ad",
   "metadata": {},
   "outputs": [],
   "source": [
    "import pandas as pd\n",
    "import numpy as np\n",
    "import warnings\n",
    "warnings.filterwarnings('ignore')\n",
    "\n",
    "from sklearn.model_selection import StratifiedKFold\n",
    "from sklearn.feature_extraction.text import TfidfVectorizer\n",
    "from xgboost import XGBRegressor\n",
    "from sklearn.metrics import classification_report\n",
    "from sklearn.pipeline import make_pipeline\n",
    "from sklearn.metrics import mean_absolute_error"
   ]
  },
  {
   "cell_type": "markdown",
   "id": "19cb1410",
   "metadata": {},
   "source": [
    "# Uploading data processed"
   ]
  },
  {
   "cell_type": "code",
   "execution_count": 178,
   "id": "ade1675a",
   "metadata": {
    "scrolled": true
   },
   "outputs": [
    {
     "data": {
      "text/html": [
       "<div>\n",
       "<style scoped>\n",
       "    .dataframe tbody tr th:only-of-type {\n",
       "        vertical-align: middle;\n",
       "    }\n",
       "\n",
       "    .dataframe tbody tr th {\n",
       "        vertical-align: top;\n",
       "    }\n",
       "\n",
       "    .dataframe thead th {\n",
       "        text-align: right;\n",
       "    }\n",
       "</style>\n",
       "<table border=\"1\" class=\"dataframe\">\n",
       "  <thead>\n",
       "    <tr style=\"text-align: right;\">\n",
       "      <th></th>\n",
       "      <th>ratingsymbol</th>\n",
       "      <th>audit</th>\n",
       "    </tr>\n",
       "  </thead>\n",
       "  <tbody>\n",
       "    <tr>\n",
       "      <th>0</th>\n",
       "      <td>B</td>\n",
       "      <td>Sufficiency of audit evidence over realizabili...</td>\n",
       "    </tr>\n",
       "    <tr>\n",
       "      <th>1</th>\n",
       "      <td>AA+</td>\n",
       "      <td>Uncertain Tax Positions. As discussed in Note ...</td>\n",
       "    </tr>\n",
       "    <tr>\n",
       "      <th>2</th>\n",
       "      <td>BBB-</td>\n",
       "      <td>Accounting for the Effects of Regulatory Matte...</td>\n",
       "    </tr>\n",
       "    <tr>\n",
       "      <th>3</th>\n",
       "      <td>BB-</td>\n",
       "      <td>Goodwill Impairment Assessment - Adtalem Brazi...</td>\n",
       "    </tr>\n",
       "    <tr>\n",
       "      <th>4</th>\n",
       "      <td>A-</td>\n",
       "      <td>Goodwill (Seed Reporting Unit) and Intangible ...</td>\n",
       "    </tr>\n",
       "    <tr>\n",
       "      <th>...</th>\n",
       "      <td>...</td>\n",
       "      <td>...</td>\n",
       "    </tr>\n",
       "    <tr>\n",
       "      <th>99</th>\n",
       "      <td>B+</td>\n",
       "      <td>Impairment of long-lived assets. Description o...</td>\n",
       "    </tr>\n",
       "    <tr>\n",
       "      <th>100</th>\n",
       "      <td>BB</td>\n",
       "      <td>Impairment of goodwill recorded in one reporti...</td>\n",
       "    </tr>\n",
       "    <tr>\n",
       "      <th>101</th>\n",
       "      <td>B+</td>\n",
       "      <td>Inventories - Excess Quantities and Obsolescen...</td>\n",
       "    </tr>\n",
       "    <tr>\n",
       "      <th>102</th>\n",
       "      <td>BBB+</td>\n",
       "      <td>Valuation of Customer Relationships and Traden...</td>\n",
       "    </tr>\n",
       "    <tr>\n",
       "      <th>103</th>\n",
       "      <td>B+</td>\n",
       "      <td>Empire wholesale fuel supply contracts. As des...</td>\n",
       "    </tr>\n",
       "  </tbody>\n",
       "</table>\n",
       "<p>104 rows × 2 columns</p>\n",
       "</div>"
      ],
      "text/plain": [
       "    ratingsymbol                                              audit\n",
       "0              B  Sufficiency of audit evidence over realizabili...\n",
       "1            AA+  Uncertain Tax Positions. As discussed in Note ...\n",
       "2           BBB-  Accounting for the Effects of Regulatory Matte...\n",
       "3            BB-  Goodwill Impairment Assessment - Adtalem Brazi...\n",
       "4             A-  Goodwill (Seed Reporting Unit) and Intangible ...\n",
       "..           ...                                                ...\n",
       "99            B+  Impairment of long-lived assets. Description o...\n",
       "100           BB  Impairment of goodwill recorded in one reporti...\n",
       "101           B+  Inventories - Excess Quantities and Obsolescen...\n",
       "102         BBB+  Valuation of Customer Relationships and Traden...\n",
       "103           B+  Empire wholesale fuel supply contracts. As des...\n",
       "\n",
       "[104 rows x 2 columns]"
      ]
     },
     "execution_count": 178,
     "metadata": {},
     "output_type": "execute_result"
    }
   ],
   "source": [
    "df"
   ]
  },
  {
   "cell_type": "markdown",
   "id": "bca9a4e9",
   "metadata": {},
   "source": [
    "### 22 credit ratings from AAA to D\n",
    "- typical rating scales used by major credit rating agencies like Standard & Poor's, Moody's, and Fitch"
   ]
  },
  {
   "cell_type": "code",
   "execution_count": 183,
   "id": "fa9ee235",
   "metadata": {},
   "outputs": [],
   "source": [
    "rating_mapping = {\n",
    "    'AAA': 21, 'AA+': 20, 'AA': 19, 'AA-': 18, 'A+': 17, 'A': 16, 'A-': 15,\n",
    "    'BBB+': 14, 'BBB': 13, 'BBB-': 12, 'BB+': 11, 'BB': 10, 'BB-': 9, 'B+': 8, 'B': 7, 'B-': 6,\n",
    "    'CCC+': 5, 'CCC': 4, 'CCC-': 3, 'CC': 2, 'C': 1,\n",
    "    'D': 0,\n",
    "}\n",
    "\n",
    "df['ratingsymbol'] = df['ratingsymbol'].map(rating_mapping)"
   ]
  },
  {
   "attachments": {
    "image.png": {
     "image/png": "[encoded data removed]"
    }
   },
   "cell_type": "markdown",
   "id": "c2d79cae",
   "metadata": {},
   "source": [
    "# NLP\n",
    "- Data processing\n",
    "    - Tokenization: break down text into smaller units (words or phrases)\n",
    "    - Removing stopwords : remove words with little meaning (\"the\", \"is\")\n",
    "    - Lemmatization/Stemming : reduce words to their base or root form\n",
    "- Feature Extraction: convert text into numerical features\n",
    "    - Bag of Words: Counts the frequency of words\n",
    "    - TF-IDF (Term Frequency-Inverse Document Frequency): Weighs the word frequencies by how rare they are in the data\n",
    "-  Select ML model:\n",
    "    - XGBoost\n",
    "        - A type of GBM\n",
    "        - It is known for high performance in a variety of tasks, including text classification\n",
    "- Train model\n",
    "- Performance metrics\n",
    "    - accuracy, precision, recall, etc\n",
    "\n",
    "# TF-IDF (Term Frequency-Inverse Document Frequency)\n",
    "- transform text data into numerical format\n",
    "- Term Frequency (TF):\n",
    "    - for each document\n",
    "        - a more frequency term is more important in understanding the text\n",
    "        - TF of a term = frequency of the term / total num of terms\n",
    "- Inverse Document Frequency (IDF)\n",
    "    - to compare across documents\n",
    "        - IDF measure how important is a term across documents\n",
    "        - = logarithmically scaled inverse of the number of documents that contain the term t. This helps to attenuate the effect of terms that occur very frequently across many documents and are thus less informative.\n",
    "- TF-IDF term = TF term multiple by IDF term\n",
    "- **High TF-IDF score = a term is frequent in a given document but not across documents, emphasizing its uniqueness and potential importance in the given document**\n",
    "- Low TD-IDF score: \n",
    "    - either:\n",
    "    - (1) the term appears in many documents across the collection (thus is common and potentially less informative) \n",
    "    - or (2) the term is rare in the specific document and in all documents\n",
    "- sklearn's **TfidfVectorizer**\n",
    "    - Input all the documents\n",
    "    - Calc TD-IDF score for each term in all docuemnts\n",
    "    \n",
    "# GBM v.s. Random Forest\n",
    "- Both are ensemble methods that use decision trees\n",
    "- Bagging (Random Forest): Involves building multiple decision trees independently and combining their predictions through averaging or voting. The individual trees are built from bootstrap samples (random samples with replacement) of the training data.\n",
    "- Boosting (GBM): Involves building trees sequentially, where each tree attempts to correct the errors of the previous ones. It combines these weak learners to form a strong predictive model. GBMs adjust the weight of each tree according to its performance, and trees are built focusing on errors made in previous stages.\n",
    "    \n",
    "# XGBoost\n",
    "- eXtreme Gradient Boosting\n",
    "- It is an advanced version of GBM, \n",
    "    - Pros:\n",
    "        - Improved speed and accuracy\n",
    "        - Regularization: Helps in reducing overfitting.\n",
    "        - Tree Pruning: Uses depth-first approach, which is more effective than traditional level-wise approach.\n",
    "            - Depth-First Tree Pruning: grow tree to max depth, then prune tree backward, allowing model to eliminate unncessary branches earlier\n",
    "            - Level-Wise Approach (Traditional GBM): each level of nodes is expanded before moving to the next level, may lead to larger tree than necessary \n",
    "        - Built-in Cross-Validation: At each iteration.\n",
    "       \n",
    "        \n",
    "# eval_metric='mlogloss'\n",
    "- multiclass logloss\n",
    "- a loss function during training, useful for classification problems with more than two classes\n",
    "![image.png](attachment:image.png)\n",
    "\n",
    "# stratified k-fold cross-validation\n",
    "- better than train_test_split\n",
    "- deals with sparse and imbalanced data\n",
    "- solving 'imbalanced' data --> use stratified version of k-fold cross-validation, which will maintain the ratio of the classes in each fold as it is in the full dataset\n",
    "\n",
    "# Training method\n",
    "- Because of sparse data, I train XGB model on 100% of data\n",
    "- But I want a guage of model performance on my data. So I use K-Folds Cross-Validation to calculate the average MAE"
   ]
  },
  {
   "cell_type": "code",
   "execution_count": 174,
   "id": "c03ec085",
   "metadata": {},
   "outputs": [
    {
     "data": {
      "text/html": [
       "<div>\n",
       "<style scoped>\n",
       "    .dataframe tbody tr th:only-of-type {\n",
       "        vertical-align: middle;\n",
       "    }\n",
       "\n",
       "    .dataframe tbody tr th {\n",
       "        vertical-align: top;\n",
       "    }\n",
       "\n",
       "    .dataframe thead th {\n",
       "        text-align: right;\n",
       "    }\n",
       "</style>\n",
       "<table border=\"1\" class=\"dataframe\">\n",
       "  <thead>\n",
       "    <tr style=\"text-align: right;\">\n",
       "      <th></th>\n",
       "      <th>ratingsymbol</th>\n",
       "      <th>audit</th>\n",
       "      <th>Name</th>\n",
       "    </tr>\n",
       "  </thead>\n",
       "  <tbody>\n",
       "    <tr>\n",
       "      <th>0</th>\n",
       "      <td>B</td>\n",
       "      <td>Sufficiency of audit evidence over realizabili...</td>\n",
       "      <td>American Airlines Group Inc.</td>\n",
       "    </tr>\n",
       "    <tr>\n",
       "      <th>1</th>\n",
       "      <td>AA+</td>\n",
       "      <td>Uncertain Tax Positions. As discussed in Note ...</td>\n",
       "      <td>Apple Inc.</td>\n",
       "    </tr>\n",
       "    <tr>\n",
       "      <th>2</th>\n",
       "      <td>BBB-</td>\n",
       "      <td>Accounting for the Effects of Regulatory Matte...</td>\n",
       "      <td>Cleco Corporate Holdings LLC</td>\n",
       "    </tr>\n",
       "    <tr>\n",
       "      <th>3</th>\n",
       "      <td>BB-</td>\n",
       "      <td>Goodwill Impairment Assessment - Adtalem Brazi...</td>\n",
       "      <td>Adtalem Global Education Inc.</td>\n",
       "    </tr>\n",
       "    <tr>\n",
       "      <th>4</th>\n",
       "      <td>A-</td>\n",
       "      <td>Goodwill (Seed Reporting Unit) and Intangible ...</td>\n",
       "      <td>EIDP, Inc.</td>\n",
       "    </tr>\n",
       "    <tr>\n",
       "      <th>...</th>\n",
       "      <td>...</td>\n",
       "      <td>...</td>\n",
       "      <td>...</td>\n",
       "    </tr>\n",
       "    <tr>\n",
       "      <th>99</th>\n",
       "      <td>B+</td>\n",
       "      <td>Impairment of long-lived assets. Description o...</td>\n",
       "      <td>Kosmos Energy Ltd.</td>\n",
       "    </tr>\n",
       "    <tr>\n",
       "      <th>100</th>\n",
       "      <td>BB</td>\n",
       "      <td>Impairment of goodwill recorded in one reporti...</td>\n",
       "      <td>Aramark</td>\n",
       "    </tr>\n",
       "    <tr>\n",
       "      <th>101</th>\n",
       "      <td>B+</td>\n",
       "      <td>Inventories - Excess Quantities and Obsolescen...</td>\n",
       "      <td>MACOM Technology Solutions Holdings, Inc.</td>\n",
       "    </tr>\n",
       "    <tr>\n",
       "      <th>102</th>\n",
       "      <td>BBB+</td>\n",
       "      <td>Valuation of Customer Relationships and Traden...</td>\n",
       "      <td>Fortune Brands Innovations, Inc.</td>\n",
       "    </tr>\n",
       "    <tr>\n",
       "      <th>103</th>\n",
       "      <td>B+</td>\n",
       "      <td>Empire wholesale fuel supply contracts. As des...</td>\n",
       "      <td>ARKO Corp.</td>\n",
       "    </tr>\n",
       "  </tbody>\n",
       "</table>\n",
       "<p>104 rows × 3 columns</p>\n",
       "</div>"
      ],
      "text/plain": [
       "    ratingsymbol                                              audit  \\\n",
       "0              B  Sufficiency of audit evidence over realizabili...   \n",
       "1            AA+  Uncertain Tax Positions. As discussed in Note ...   \n",
       "2           BBB-  Accounting for the Effects of Regulatory Matte...   \n",
       "3            BB-  Goodwill Impairment Assessment - Adtalem Brazi...   \n",
       "4             A-  Goodwill (Seed Reporting Unit) and Intangible ...   \n",
       "..           ...                                                ...   \n",
       "99            B+  Impairment of long-lived assets. Description o...   \n",
       "100           BB  Impairment of goodwill recorded in one reporti...   \n",
       "101           B+  Inventories - Excess Quantities and Obsolescen...   \n",
       "102         BBB+  Valuation of Customer Relationships and Traden...   \n",
       "103           B+  Empire wholesale fuel supply contracts. As des...   \n",
       "\n",
       "                                          Name  \n",
       "0                 American Airlines Group Inc.  \n",
       "1                                   Apple Inc.  \n",
       "2                 Cleco Corporate Holdings LLC  \n",
       "3                Adtalem Global Education Inc.  \n",
       "4                                   EIDP, Inc.  \n",
       "..                                         ...  \n",
       "99                          Kosmos Energy Ltd.  \n",
       "100                                    Aramark  \n",
       "101  MACOM Technology Solutions Holdings, Inc.  \n",
       "102           Fortune Brands Innovations, Inc.  \n",
       "103                                 ARKO Corp.  \n",
       "\n",
       "[104 rows x 3 columns]"
      ]
     },
     "execution_count": 174,
     "metadata": {},
     "output_type": "execute_result"
    }
   ],
   "source": [
    "df"
   ]
  },
  {
   "cell_type": "code",
   "execution_count": 201,
   "id": "281dea43",
   "metadata": {},
   "outputs": [
    {
     "name": "stdout",
     "output_type": "stream",
     "text": [
      "Average MAE: 2.590909090909091\n"
     ]
    }
   ],
   "source": [
    "kf = StratifiedKFold(n_splits=10, shuffle=True, random_state=42)\n",
    "# n_splits=10 --> 10 iterations, each iteration: 1 fold test, 9 folds train. Always only 1 fold testing\n",
    "# shuffle=True --> randomly split into folds for each iteration\n",
    "\n",
    "mae_scores = []\n",
    "\n",
    "for train_index, test_index in kf.split(X, y):\n",
    "    X_train, X_test = X[train_index], X[test_index]\n",
    "    y_train, y_test = y.iloc[train_index], y.iloc[test_index]\n",
    "\n",
    "    model = XGBRegressor()\n",
    "    model.fit(X_train, y_train)\n",
    "    y_pred = model.predict(X_test)\n",
    "\n",
    "    y_pred_rounded = np.round(y_pred)\n",
    "    y_pred_rounded = np.clip(y_pred_rounded, 0,21)\n",
    "    \n",
    "    mae_scores.append(mean_absolute_error(y_test, y_pred_rounded))\n",
    "\n",
    "average_mae = np.mean(mae_scores)\n",
    "print(f\"Average MAE: {average_mae}\")\n",
    "\n",
    "final_model = XGBRegressor()"
   ]
  },
  {
   "cell_type": "code",
   "execution_count": 184,
   "id": "5da5b75c",
   "metadata": {},
   "outputs": [
    {
     "data": {
      "text/plain": [
       "ratingsymbol\n",
       "8     21\n",
       "9     15\n",
       "10    14\n",
       "7     11\n",
       "13     9\n",
       "11     8\n",
       "12     6\n",
       "6      5\n",
       "15     4\n",
       "14     4\n",
       "20     2\n",
       "2      2\n",
       "0      1\n",
       "5      1\n",
       "18     1\n",
       "Name: count, dtype: int64"
      ]
     },
     "execution_count": 184,
     "metadata": {},
     "output_type": "execute_result"
    }
   ],
   "source": [
    "df['ratingsymbol'].value_counts()"
   ]
  },
  {
   "cell_type": "code",
   "execution_count": 202,
   "id": "b8ba062a",
   "metadata": {},
   "outputs": [
    {
     "data": {
      "text/html": [
       "<style>#sk-container-id-1 {color: black;}#sk-container-id-1 pre{padding: 0;}#sk-container-id-1 div.sk-toggleable {background-color: white;}#sk-container-id-1 label.sk-toggleable__label {cursor: pointer;display: block;width: 100%;margin-bottom: 0;padding: 0.3em;box-sizing: border-box;text-align: center;}#sk-container-id-1 label.sk-toggleable__label-arrow:before {content: \"▸\";float: left;margin-right: 0.25em;color: #696969;}#sk-container-id-1 label.sk-toggleable__label-arrow:hover:before {color: black;}#sk-container-id-1 div.sk-estimator:hover label.sk-toggleable__label-arrow:before {color: black;}#sk-container-id-1 div.sk-toggleable__content {max-height: 0;max-width: 0;overflow: hidden;text-align: left;background-color: #f0f8ff;}#sk-container-id-1 div.sk-toggleable__content pre {margin: 0.2em;color: black;border-radius: 0.25em;background-color: #f0f8ff;}#sk-container-id-1 input.sk-toggleable__control:checked~div.sk-toggleable__content {max-height: 200px;max-width: 100%;overflow: auto;}#sk-container-id-1 input.sk-toggleable__control:checked~label.sk-toggleable__label-arrow:before {content: \"▾\";}#sk-container-id-1 div.sk-estimator input.sk-toggleable__control:checked~label.sk-toggleable__label {background-color: #d4ebff;}#sk-container-id-1 div.sk-label input.sk-toggleable__control:checked~label.sk-toggleable__label {background-color: #d4ebff;}#sk-container-id-1 input.sk-hidden--visually {border: 0;clip: rect(1px 1px 1px 1px);clip: rect(1px, 1px, 1px, 1px);height: 1px;margin: -1px;overflow: hidden;padding: 0;position: absolute;width: 1px;}#sk-container-id-1 div.sk-estimator {font-family: monospace;background-color: #f0f8ff;border: 1px dotted black;border-radius: 0.25em;box-sizing: border-box;margin-bottom: 0.5em;}#sk-container-id-1 div.sk-estimator:hover {background-color: #d4ebff;}#sk-container-id-1 div.sk-parallel-item::after {content: \"\";width: 100%;border-bottom: 1px solid gray;flex-grow: 1;}#sk-container-id-1 div.sk-label:hover label.sk-toggleable__label {background-color: #d4ebff;}#sk-container-id-1 div.sk-serial::before {content: \"\";position: absolute;border-left: 1px solid gray;box-sizing: border-box;top: 0;bottom: 0;left: 50%;z-index: 0;}#sk-container-id-1 div.sk-serial {display: flex;flex-direction: column;align-items: center;background-color: white;padding-right: 0.2em;padding-left: 0.2em;position: relative;}#sk-container-id-1 div.sk-item {position: relative;z-index: 1;}#sk-container-id-1 div.sk-parallel {display: flex;align-items: stretch;justify-content: center;background-color: white;position: relative;}#sk-container-id-1 div.sk-item::before, #sk-container-id-1 div.sk-parallel-item::before {content: \"\";position: absolute;border-left: 1px solid gray;box-sizing: border-box;top: 0;bottom: 0;left: 50%;z-index: -1;}#sk-container-id-1 div.sk-parallel-item {display: flex;flex-direction: column;z-index: 1;position: relative;background-color: white;}#sk-container-id-1 div.sk-parallel-item:first-child::after {align-self: flex-end;width: 50%;}#sk-container-id-1 div.sk-parallel-item:last-child::after {align-self: flex-start;width: 50%;}#sk-container-id-1 div.sk-parallel-item:only-child::after {width: 0;}#sk-container-id-1 div.sk-dashed-wrapped {border: 1px dashed gray;margin: 0 0.4em 0.5em 0.4em;box-sizing: border-box;padding-bottom: 0.4em;background-color: white;}#sk-container-id-1 div.sk-label label {font-family: monospace;font-weight: bold;display: inline-block;line-height: 1.2em;}#sk-container-id-1 div.sk-label-container {text-align: center;}#sk-container-id-1 div.sk-container {/* jupyter's `normalize.less` sets `[hidden] { display: none; }` but bootstrap.min.css set `[hidden] { display: none !important; }` so we also need the `!important` here to be able to override the default hidden behavior on the sphinx rendered scikit-learn.org. See: https://github.com/scikit-learn/scikit-learn/issues/21755 */display: inline-block !important;position: relative;}#sk-container-id-1 div.sk-text-repr-fallback {display: none;}</style><div id=\"sk-container-id-1\" class=\"sk-top-container\"><div class=\"sk-text-repr-fallback\"><pre>XGBRegressor(base_score=None, booster=None, callbacks=None,\n",
       "             colsample_bylevel=None, colsample_bynode=None,\n",
       "             colsample_bytree=None, device=None, early_stopping_rounds=None,\n",
       "             enable_categorical=False, eval_metric=None, feature_types=None,\n",
       "             gamma=None, grow_policy=None, importance_type=None,\n",
       "             interaction_constraints=None, learning_rate=None, max_bin=None,\n",
       "             max_cat_threshold=None, max_cat_to_onehot=None,\n",
       "             max_delta_step=None, max_depth=None, max_leaves=None,\n",
       "             min_child_weight=None, missing=nan, monotone_constraints=None,\n",
       "             multi_strategy=None, n_estimators=None, n_jobs=None,\n",
       "             num_parallel_tree=None, random_state=None, ...)</pre><b>In a Jupyter environment, please rerun this cell to show the HTML representation or trust the notebook. <br />On GitHub, the HTML representation is unable to render, please try loading this page with nbviewer.org.</b></div><div class=\"sk-container\" hidden><div class=\"sk-item\"><div class=\"sk-estimator sk-toggleable\"><input class=\"sk-toggleable__control sk-hidden--visually\" id=\"sk-estimator-id-1\" type=\"checkbox\" checked><label for=\"sk-estimator-id-1\" class=\"sk-toggleable__label sk-toggleable__label-arrow\">XGBRegressor</label><div class=\"sk-toggleable__content\"><pre>XGBRegressor(base_score=None, booster=None, callbacks=None,\n",
       "             colsample_bylevel=None, colsample_bynode=None,\n",
       "             colsample_bytree=None, device=None, early_stopping_rounds=None,\n",
       "             enable_categorical=False, eval_metric=None, feature_types=None,\n",
       "             gamma=None, grow_policy=None, importance_type=None,\n",
       "             interaction_constraints=None, learning_rate=None, max_bin=None,\n",
       "             max_cat_threshold=None, max_cat_to_onehot=None,\n",
       "             max_delta_step=None, max_depth=None, max_leaves=None,\n",
       "             min_child_weight=None, missing=nan, monotone_constraints=None,\n",
       "             multi_strategy=None, n_estimators=None, n_jobs=None,\n",
       "             num_parallel_tree=None, random_state=None, ...)</pre></div></div></div></div></div>"
      ],
      "text/plain": [
       "XGBRegressor(base_score=None, booster=None, callbacks=None,\n",
       "             colsample_bylevel=None, colsample_bynode=None,\n",
       "             colsample_bytree=None, device=None, early_stopping_rounds=None,\n",
       "             enable_categorical=False, eval_metric=None, feature_types=None,\n",
       "             gamma=None, grow_policy=None, importance_type=None,\n",
       "             interaction_constraints=None, learning_rate=None, max_bin=None,\n",
       "             max_cat_threshold=None, max_cat_to_onehot=None,\n",
       "             max_delta_step=None, max_depth=None, max_leaves=None,\n",
       "             min_child_weight=None, missing=nan, monotone_constraints=None,\n",
       "             multi_strategy=None, n_estimators=None, n_jobs=None,\n",
       "             num_parallel_tree=None, random_state=None, ...)"
      ]
     },
     "execution_count": 202,
     "metadata": {},
     "output_type": "execute_result"
    }
   ],
   "source": [
    "# use 100% data for training \n",
    "vectorizer = TfidfVectorizer()\n",
    "X = vectorizer.fit_transform(df['audit'])\n",
    "y = df['ratingsymbol']\n",
    "model = XGBRegressor()\n",
    "model.fit(X, y)"
   ]
  },
  {
   "cell_type": "code",
   "execution_count": 185,
   "id": "86ea1309",
   "metadata": {},
   "outputs": [],
   "source": [
    "vectorizer = TfidfVectorizer()\n",
    "X = vectorizer.fit_transform(df['audit'])\n",
    "y = df['ratingsymbol']\n",
    "model = XGBRegressor()\n",
    "model.fit(X, y)"
   ]
  },
  {
   "cell_type": "markdown",
   "id": "87cf1563",
   "metadata": {},
   "source": [
    "# Testing \n",
    "- 'test' = audit opinion of Microsoft, actually rating = AAA (21)\n",
    "- y_pred = A- (15)"
   ]
  },
  {
   "cell_type": "code",
   "execution_count": 204,
   "id": "b6057133",
   "metadata": {},
   "outputs": [],
   "source": [
    "test=pd.read_excel('test.xlsx') # test data is the 'critical audit matters' of Microsoft in year 2023, credit rating AAA\n",
    "X_test = vectorizer.transform(test['audit'])\n",
    "y_pred = model.predict(X_test)\n",
    "y_pred = np.clip(np.round(y_pred), 0, 21)"
   ]
  },
  {
   "cell_type": "code",
   "execution_count": 205,
   "id": "e619e24b",
   "metadata": {},
   "outputs": [
    {
     "data": {
      "text/plain": [
       "array([15.], dtype=float32)"
      ]
     },
     "execution_count": 205,
     "metadata": {},
     "output_type": "execute_result"
    }
   ],
   "source": [
    "y_pred"
   ]
  },
  {
   "cell_type": "markdown",
   "id": "b8e26fbd",
   "metadata": {},
   "source": [
    "For this test case, the actual credit rating of Microsoft is AAA (correspond to a numerical rating of 21 in this case), but the model predicted A- (numerical ratinig of 15), which is a big difference"
   ]
  },
  {
   "cell_type": "markdown",
   "id": "61a8ed97",
   "metadata": {},
   "source": [
    "# Conclusion\n",
    "- Model performance can be improved with more data. Current dataset is sparse (only 104 stocks) and imbalanced (large portion of data for credit rating between B to BB. Data for credit rating of 'C' is missing from the dataset)\n",
    "- NLP requires a large amount of data to be effective, this is partly because human language are inherently more ambiguous than numbers"
   ]
  }
 ],
 "metadata": {
  "kernelspec": {
   "display_name": "Python 3 (ipykernel)",
   "language": "python",
   "name": "python3"
  },
  "language_info": {
   "codemirror_mode": {
    "name": "ipython",
    "version": 3
   },
   "file_extension": ".py",
   "mimetype": "text/x-python",
   "name": "python",
   "nbconvert_exporter": "python",
   "pygments_lexer": "ipython3",
   "version": "3.11.5"
  }
 },
 "nbformat": 4,
 "nbformat_minor": 5
}
